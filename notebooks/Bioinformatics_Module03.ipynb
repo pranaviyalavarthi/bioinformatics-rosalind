{
  "nbformat": 4,
  "nbformat_minor": 0,
  "metadata": {
    "colab": {
      "provenance": [],
      "collapsed_sections": [
        "jYlnA2Z2FhoW",
        "qRj8vCvXG-1k",
        "s7deJQCHHwOa",
        "GtjxkNHWN5Xo",
        "3yswDberkE7N",
        "4IM-9eAGkPdi",
        "nlBbe3qBRH_J",
        "_F9KCUzCd3ID",
        "iHFNxm30lzic",
        "sOgq54Op4MZL",
        "R5_dYi9f6t1z",
        "LdtXZ0LW9ugo",
        "i4Fo-ddSKWwy",
        "iupO8iI-ZYAe",
        "lY924yM0jckW",
        "NvqGEl4JjpiO",
        "DHzE7CI4lWGw",
        "WD5wnvQkmh6E",
        "kApNvgOLn8lp",
        "kq9QbEttnA4h"
      ],
      "include_colab_link": true
    },
    "kernelspec": {
      "name": "python3",
      "display_name": "Python 3"
    },
    "language_info": {
      "name": "python"
    }
  },
  "cells": [
    {
      "cell_type": "markdown",
      "metadata": {
        "id": "view-in-github",
        "colab_type": "text"
      },
      "source": [
        "<a href=\"https://colab.research.google.com/github/pranaviyalavarthi/bioinformatics-rosalind/blob/main/notebooks/Bioinformatics_Module03.ipynb\" target=\"_parent\"><img src=\"https://colab.research.google.com/assets/colab-badge.svg\" alt=\"Open In Colab\"/></a>"
      ]
    },
    {
      "cell_type": "markdown",
      "source": [
        "# **<font color=blue>P1.** </font>Rename this notebook **Bioinformatics_Module03.ipynb </font><br>**"
      ],
      "metadata": {
        "id": "l3h89jAYBUzz"
      }
    },
    {
      "cell_type": "markdown",
      "source": [
        "# **<font color=blue>P2. </font>**```print()```writes to standard output (i.e. prints output to the screen)"
      ],
      "metadata": {
        "id": "jYlnA2Z2FhoW"
      }
    },
    {
      "cell_type": "markdown",
      "source": [
        "####**TASK P2.1:** Print <font color = magenta>hello world</font>"
      ],
      "metadata": {
        "id": "r118fqQodA9x"
      }
    },
    {
      "cell_type": "code",
      "source": [
        "print(\"hello world\")"
      ],
      "metadata": {
        "id": "kvxK8D5uFx_x",
        "colab": {
          "base_uri": "https://localhost:8080/"
        },
        "outputId": "fc7e55a4-4978-4292-c113-afe357d34f45"
      },
      "execution_count": 2,
      "outputs": [
        {
          "output_type": "stream",
          "name": "stdout",
          "text": [
            "hello world\n"
          ]
        }
      ]
    },
    {
      "cell_type": "markdown",
      "source": [
        "# **<font color=blue>P3. </font>**```=``` is the ASSIGNMENT operator (assigns values to variables)\n",
        "####**TASK P3.1:** Ask Gemini, \"*Give me 3 examples to help practice understanding the assignment operator.*\""
      ],
      "metadata": {
        "id": "qRj8vCvXG-1k"
      }
    },
    {
      "cell_type": "code",
      "source": [
        "x=5\n",
        "x"
      ],
      "metadata": {
        "id": "VB8HPNe7JpuJ",
        "colab": {
          "base_uri": "https://localhost:8080/"
        },
        "outputId": "355f6179-b3eb-4641-de0c-4260c3592787"
      },
      "execution_count": 3,
      "outputs": [
        {
          "output_type": "execute_result",
          "data": {
            "text/plain": [
              "5"
            ]
          },
          "metadata": {},
          "execution_count": 3
        }
      ]
    },
    {
      "cell_type": "markdown",
      "source": [
        "# **<font color=blue>P4. </font>** Data types: use ```type()``` to find a variable's \"type\"\n",
        "####**TASK P4.1:** Ask Gemini, \"*Give me examples of each data type to see how they look as outputs.*\""
      ],
      "metadata": {
        "id": "s7deJQCHHwOa"
      }
    },
    {
      "cell_type": "code",
      "source": [
        "type(x)"
      ],
      "metadata": {
        "colab": {
          "base_uri": "https://localhost:8080/"
        },
        "id": "ktR75uWIJ0uc",
        "outputId": "ef82d99e-3c72-4709-f877-de240bb39615"
      },
      "execution_count": 5,
      "outputs": [
        {
          "output_type": "execute_result",
          "data": {
            "text/plain": [
              "int"
            ]
          },
          "metadata": {},
          "execution_count": 5
        }
      ]
    },
    {
      "cell_type": "markdown",
      "source": [
        "# **<font color=blue>P5. </font>** Arithmetic and comparison operators\n",
        "####**TASK P5.1:**   Complete Rosalind #1"
      ],
      "metadata": {
        "id": "GtjxkNHWN5Xo"
      }
    },
    {
      "cell_type": "code",
      "source": [
        "a=999\n",
        "b=955\n",
        "y=a**2+b**2\n",
        "print(y)"
      ],
      "metadata": {
        "id": "45s9c4vyQm2U",
        "colab": {
          "base_uri": "https://localhost:8080/"
        },
        "outputId": "55ae69c2-961f-49ed-851e-1538bc130ae6"
      },
      "execution_count": 6,
      "outputs": [
        {
          "output_type": "stream",
          "name": "stdout",
          "text": [
            "1910026\n"
          ]
        }
      ]
    },
    {
      "cell_type": "markdown",
      "source": [
        "# **<font color=blue>P6. </font>** ```input()``` gets input from the user"
      ],
      "metadata": {
        "id": "3yswDberkE7N"
      }
    },
    {
      "cell_type": "markdown",
      "source": [
        "TASK P6.1"
      ],
      "metadata": {
        "id": "z97rSY9gqdad"
      }
    },
    {
      "cell_type": "code",
      "metadata": {
        "colab": {
          "base_uri": "https://localhost:8080/"
        },
        "id": "d91046dd",
        "outputId": "14393a54-6aeb-4152-8d3b-e8fc090828f0"
      },
      "source": [
        "name = input(\"Enter your name: \")\n",
        "print(\"Hello, \" + name)"
      ],
      "execution_count": 9,
      "outputs": [
        {
          "output_type": "stream",
          "name": "stdout",
          "text": [
            "Enter your name: Pranavi Yalavarthi\n",
            "Hello, Pranavi Yalavarthi\n"
          ]
        }
      ]
    },
    {
      "cell_type": "markdown",
      "source": [
        "####**TASK P6.1:** Solve Rosalind #1 again, but get user input for the values of a and b rather than modifying the code."
      ],
      "metadata": {
        "id": "e3LaAQeLRmE6"
      }
    },
    {
      "cell_type": "code",
      "source": [
        "a= int(input(\"enter a value for a:\"))\n",
        "b= int(input(\"enter a value for b:\"))\n",
        "c=a**2+b**2\n",
        "print (\"The sq of the hypotenuse is\",c)"
      ],
      "metadata": {
        "id": "wZ0XL0L6Rq2H",
        "colab": {
          "base_uri": "https://localhost:8080/"
        },
        "outputId": "8d7c72ed-e564-4d1b-a6d0-8e265b2cfa03"
      },
      "execution_count": 10,
      "outputs": [
        {
          "output_type": "stream",
          "name": "stdout",
          "text": [
            "enter a value for a:999\n",
            "enter a value for b:955\n",
            "The sq of the hypotenuse is 1910026\n"
          ]
        }
      ]
    },
    {
      "cell_type": "markdown",
      "source": [
        "# **<font color=blue>P7. </font>** ```list``` type variables (create, replace, append)"
      ],
      "metadata": {
        "id": "4IM-9eAGkPdi"
      }
    },
    {
      "cell_type": "markdown",
      "source": [
        "####**TASK P7.1**"
      ],
      "metadata": {
        "id": "DhNGdYK6NEpe"
      }
    },
    {
      "cell_type": "code",
      "source": [
        "# Create a list with 3 elements and then print them\n",
        "\n",
        "my_list = [\"Hello\", \"World\", \"Charles Darwin\"]\n",
        "print (my_list[1])"
      ],
      "metadata": {
        "id": "N3VRRQIEkXuP",
        "colab": {
          "base_uri": "https://localhost:8080/"
        },
        "outputId": "e5d31d6b-a048-491a-b570-88ecbc7aeaa5"
      },
      "execution_count": 11,
      "outputs": [
        {
          "output_type": "stream",
          "name": "stdout",
          "text": [
            "World\n"
          ]
        }
      ]
    },
    {
      "cell_type": "markdown",
      "source": [
        "####**TASK P7.2**"
      ],
      "metadata": {
        "id": "Yn3bAoi8NKy5"
      }
    },
    {
      "cell_type": "code",
      "source": [
        "# Substitute the item at index 2 in the list\n",
        "my_list[2] = \"Alfred R. Wallace\"\n",
        "print (my_list)"
      ],
      "metadata": {
        "id": "WNnsUuduOKbI",
        "colab": {
          "base_uri": "https://localhost:8080/"
        },
        "outputId": "9191c32c-2ee5-4756-c655-04deb04a2f23"
      },
      "execution_count": 12,
      "outputs": [
        {
          "output_type": "stream",
          "name": "stdout",
          "text": [
            "['Hello', 'World', 'Alfred R. Wallace']\n"
          ]
        }
      ]
    },
    {
      "cell_type": "markdown",
      "source": [
        "####**TASK P7.3**"
      ],
      "metadata": {
        "id": "SxiMMNLyPwGV"
      }
    },
    {
      "cell_type": "code",
      "source": [
        "# Append an item to the end of the list\n",
        "my_list.append(\"Charles Darwin\")\n",
        "print (my_list)"
      ],
      "metadata": {
        "id": "3VrLc6CGQTi-",
        "colab": {
          "base_uri": "https://localhost:8080/"
        },
        "outputId": "b9402ba9-6948-480f-a26c-c9c805b07c4e"
      },
      "execution_count": 13,
      "outputs": [
        {
          "output_type": "stream",
          "name": "stdout",
          "text": [
            "['Hello', 'World', 'Alfred R. Wallace', 'Charles Darwin']\n"
          ]
        }
      ]
    },
    {
      "cell_type": "markdown",
      "source": [
        "####**TASK P7.4**. Ask Gemini how to <font color=crimson>```insert```</font> a new item at index 1 in the list"
      ],
      "metadata": {
        "id": "XQKmwgbfQond"
      }
    },
    {
      "cell_type": "code",
      "source": [
        "# On line #2 insert an item at index 1 of my_list\n",
        "\n",
        "print (my_list)"
      ],
      "metadata": {
        "id": "u0maP5CZZN13",
        "colab": {
          "base_uri": "https://localhost:8080/"
        },
        "outputId": "9b3f7cc8-6f9c-4ad4-eda7-e21205b50d79"
      },
      "execution_count": 14,
      "outputs": [
        {
          "output_type": "stream",
          "name": "stdout",
          "text": [
            "['Hello', 'World', 'Alfred R. Wallace', 'Charles Darwin']\n"
          ]
        }
      ]
    },
    {
      "cell_type": "markdown",
      "source": [
        "# **<font color=blue>P8. </font>** Slicing lists and strings"
      ],
      "metadata": {
        "id": "nlBbe3qBRH_J"
      }
    },
    {
      "cell_type": "markdown",
      "source": [
        "####**TASK P8.1** Slice and print only the middle two elements from the list created in P7 (i.e. only <font color=magenta>World</font> and <font color=magenta>Alfred R. Wallace</font>).  "
      ],
      "metadata": {
        "id": "M0YW2MP0WtuI"
      }
    },
    {
      "cell_type": "code",
      "source": [
        "print (my_list[2:4])"
      ],
      "metadata": {
        "colab": {
          "base_uri": "https://localhost:8080/"
        },
        "id": "Tp1djNtiaxSb",
        "outputId": "1d8e0ba7-836f-4e33-e36a-17ac90f36b2d"
      },
      "execution_count": 15,
      "outputs": [
        {
          "output_type": "stream",
          "name": "stdout",
          "text": [
            "['Alfred R. Wallace', 'Charles Darwin']\n"
          ]
        }
      ]
    },
    {
      "cell_type": "markdown",
      "source": [
        "####**TASK P8.2**: Print <font color=magenta>Wallace World</font> from **my_string** by slicing\n"
      ],
      "metadata": {
        "id": "_F9KCUzCd3ID"
      }
    },
    {
      "cell_type": "code",
      "source": [
        "my_string = \"HelloWorldCharlesDarwinAlfred R. Walace\"\n",
        "print (my_string[0:5],my_string[5:10])\n",
        "\n",
        "# in the print command below input the correct index values to complete Task P8.2\n",
        "print (my_string[ : ],my_string[ : ])"
      ],
      "metadata": {
        "colab": {
          "base_uri": "https://localhost:8080/"
        },
        "id": "AafKngtba8En",
        "outputId": "c843533d-53fe-4c9e-f928-cc419b06ada1"
      },
      "execution_count": 16,
      "outputs": [
        {
          "output_type": "stream",
          "name": "stdout",
          "text": [
            "Hello World\n",
            "HelloWorldCharlesDarwinAlfred R. Walace HelloWorldCharlesDarwinAlfred R. Walace\n"
          ]
        }
      ]
    },
    {
      "cell_type": "markdown",
      "source": [
        "####**TASK P8.3**  **<font color = orange> Complete Rosalind Problem #2 Strings and Lists</font>**"
      ],
      "metadata": {
        "id": "2TTQVE-Xf8jR"
      }
    },
    {
      "cell_type": "code",
      "source": [
        "# Enter code for Rosalind 2 here:\n",
        "\n",
        "mystring = \"CYEs60oKeQtQrjuWvVhQVZkZ32jISorex1TOrSnJ0ziLDd31F2DIHjrs8GZTht1YtMzDRQh8CNgHwnZsCyQarjmrWDroeBs6UvnW7r6r8Msyqr4wubLEOoIksoloensiswb0ukmkxDga9k53gxNlpEZ7LmzXj7405JwgCB.\"\n",
        "print (mystring[28:33],mystring[120:129])"
      ],
      "metadata": {
        "id": "LI88f5RZh4GL",
        "colab": {
          "base_uri": "https://localhost:8080/"
        },
        "outputId": "6d4d39eb-f302-4cb3-e9ab-0d8f6027403a"
      },
      "execution_count": 40,
      "outputs": [
        {
          "output_type": "stream",
          "name": "stdout",
          "text": [
            "Sorex soloensis\n"
          ]
        }
      ]
    },
    {
      "cell_type": "markdown",
      "source": [
        "####**<font color=crimson>TASK 8.4 Commit to GitHub**</font>*italicized text*"
      ],
      "metadata": {
        "id": "Tw6Pwh6TjwJ9"
      }
    },
    {
      "cell_type": "markdown",
      "source": [
        "# **<font color=blue>P9. </font>** ```if``` and ```else``` - conditional output"
      ],
      "metadata": {
        "id": "iHFNxm30lzic"
      }
    },
    {
      "cell_type": "markdown",
      "source": [
        "####**TASK P9.1** Create some code that subtracts two numbers if they are different or adds them if they are the same."
      ],
      "metadata": {
        "id": "WCXnGdftztbN"
      }
    },
    {
      "cell_type": "code",
      "source": [
        "a=5\n",
        "b=5\n",
        "\n",
        "if a!=b:\n",
        "  print(a-b)\n",
        "\n",
        "else:\n",
        "  print(a+b)"
      ],
      "metadata": {
        "id": "KabZsL5Fy8jJ",
        "colab": {
          "base_uri": "https://localhost:8080/"
        },
        "outputId": "1d56c65c-d11a-4735-b1ce-ae1a115f8914"
      },
      "execution_count": 19,
      "outputs": [
        {
          "output_type": "stream",
          "name": "stdout",
          "text": [
            "10\n"
          ]
        }
      ]
    },
    {
      "cell_type": "markdown",
      "source": [
        "# **<font color=blue>P10.</font>** ```while``` loops"
      ],
      "metadata": {
        "id": "sOgq54Op4MZL"
      }
    },
    {
      "cell_type": "markdown",
      "source": [
        "####**TASK P10.1** Create a while loop that runs 3 times\n"
      ],
      "metadata": {
        "id": "JMqGqhTn4l9s"
      }
    },
    {
      "cell_type": "code",
      "source": [
        "#initiate a counter\n",
        "a = 1\n",
        "\n",
        "#print \"Counting!\" while a<=3\n",
        "while a <= 3:\n",
        "\n",
        "    print (\"Counting!\" * a)\n",
        "    a += 1"
      ],
      "metadata": {
        "id": "07YbiCGO4O1w",
        "colab": {
          "base_uri": "https://localhost:8080/"
        },
        "outputId": "f08f4a9b-1b32-4ecd-f953-4ccb79e15989"
      },
      "execution_count": 21,
      "outputs": [
        {
          "output_type": "stream",
          "name": "stdout",
          "text": [
            "Counting!\n",
            "Counting!Counting!\n",
            "Counting!Counting!Counting!\n"
          ]
        }
      ]
    },
    {
      "cell_type": "markdown",
      "source": [
        "# **<font color=blue>P11.</font>** ```for``` loops – looping over lists"
      ],
      "metadata": {
        "id": "R5_dYi9f6t1z"
      }
    },
    {
      "cell_type": "markdown",
      "source": [
        "####**TASK P11.1** Create a for loop to print each item in a list\n"
      ],
      "metadata": {
        "id": "x9F7v_V073wO"
      }
    },
    {
      "cell_type": "code",
      "source": [
        "names = [\"Alice\",\"Bob\",\"Charley\"]\n",
        "\n",
        "for name in names:\n",
        "    print (\"Hello\", name)"
      ],
      "metadata": {
        "id": "-aqaQ5hz70yo",
        "colab": {
          "base_uri": "https://localhost:8080/"
        },
        "outputId": "29c499f1-d3d3-47e2-e2b6-2ef4a74674f4"
      },
      "execution_count": 22,
      "outputs": [
        {
          "output_type": "stream",
          "name": "stdout",
          "text": [
            "Hello Alice\n",
            "Hello Bob\n",
            "Hello Charley\n"
          ]
        }
      ]
    },
    {
      "cell_type": "markdown",
      "source": [
        "# **<font color=blue>P12.</font>** ```for``` loops over a ```range()```of numbers"
      ],
      "metadata": {
        "id": "LdtXZ0LW9ugo"
      }
    },
    {
      "cell_type": "markdown",
      "source": [
        "####**TASK 12.1** Using for and range(), create code that prints the numbers 0-9"
      ],
      "metadata": {
        "id": "jG6jvXEBDi4H"
      }
    },
    {
      "cell_type": "code",
      "source": [
        "# Create a variable to define the  number of iterations\n",
        "iterations = 10\n",
        "\n",
        "#Print the current item's value each time through the loop\n",
        "for number in range(iterations):\n",
        "    print (number)"
      ],
      "metadata": {
        "colab": {
          "base_uri": "https://localhost:8080/"
        },
        "id": "RFBXqQNu_E6X",
        "outputId": "a6d27430-9a6d-4701-f30b-095cfe12ec36"
      },
      "execution_count": 23,
      "outputs": [
        {
          "output_type": "stream",
          "name": "stdout",
          "text": [
            "0\n",
            "1\n",
            "2\n",
            "3\n",
            "4\n",
            "5\n",
            "6\n",
            "7\n",
            "8\n",
            "9\n"
          ]
        }
      ]
    },
    {
      "cell_type": "markdown",
      "source": [
        "####**TASK 12.2** Modify the code so that it only prints every 3rd number from 9 through 27 (i.e. including 27)"
      ],
      "metadata": {
        "id": "NRd5srR_G-PQ"
      }
    },
    {
      "cell_type": "code",
      "source": [
        "# Define the range from 9 to 27, stepping by 3\n",
        "for number in range(9, 28, 3):\n",
        "    print(number)"
      ],
      "metadata": {
        "id": "irYTFPO-IRHo",
        "colab": {
          "base_uri": "https://localhost:8080/"
        },
        "outputId": "65bd305f-5df8-47e5-d1d5-8f88a7b91c08"
      },
      "execution_count": 24,
      "outputs": [
        {
          "output_type": "stream",
          "name": "stdout",
          "text": [
            "9\n",
            "12\n",
            "15\n",
            "18\n",
            "21\n",
            "24\n",
            "27\n"
          ]
        }
      ]
    },
    {
      "cell_type": "markdown",
      "source": [
        "####**TASK 12.3** <font color = orange> **Complete Rosalind Problem #3 Conditions and Loops** </font>"
      ],
      "metadata": {
        "id": "83jDEjpMHXUa"
      }
    },
    {
      "cell_type": "code",
      "source": [
        "# Enter code for Rosalind 3 here:\n",
        "a, b = 4639, 8715\n",
        "\n",
        "odd_sum = 0\n",
        "\n",
        "for x in range(a, b+1):\n",
        "    if x % 2 == 1:\n",
        "        odd_sum += x\n",
        "\n",
        "print(odd_sum)"
      ],
      "metadata": {
        "id": "EI7hRtakG90R",
        "colab": {
          "base_uri": "https://localhost:8080/"
        },
        "outputId": "40f61b01-c21b-4e7f-9268-beb22f019983"
      },
      "execution_count": 25,
      "outputs": [
        {
          "output_type": "stream",
          "name": "stdout",
          "text": [
            "13614403\n"
          ]
        }
      ]
    },
    {
      "cell_type": "markdown",
      "source": [
        "####**<font color=crimson>TASK 12.4 Commit to GitHub**</font>"
      ],
      "metadata": {
        "id": "3P9DKNbPI1wp"
      }
    },
    {
      "cell_type": "markdown",
      "source": [
        "# **<font color=blue>P13.</font>** File I/O – with open(\"filename\", \"mode\") as filehandle:\n"
      ],
      "metadata": {
        "id": "i4Fo-ddSKWwy"
      }
    },
    {
      "cell_type": "markdown",
      "source": [
        "####**TASK P13.1** Use the ```read()``` function to print the <font color = orange>practice dataset from Rosalind #4</font>\n"
      ],
      "metadata": {
        "id": "sgc3wiQmLXcI"
      }
    },
    {
      "cell_type": "code",
      "source": [
        "with open(\"practice.txt\",\"r\") as data:\n",
        "\n",
        "    print(data.read())\n",
        "\n",
        "    #print(data.readline())\n",
        "\n",
        "    #print(data.readlines())"
      ],
      "metadata": {
        "id": "V5nzHsnULA_n",
        "colab": {
          "base_uri": "https://localhost:8080/",
          "height": 211
        },
        "outputId": "17b0f714-e677-4992-d42e-044940a1cd94"
      },
      "execution_count": 26,
      "outputs": [
        {
          "output_type": "error",
          "ename": "FileNotFoundError",
          "evalue": "[Errno 2] No such file or directory: 'practice.txt'",
          "traceback": [
            "\u001b[0;31m---------------------------------------------------------------------------\u001b[0m",
            "\u001b[0;31mFileNotFoundError\u001b[0m                         Traceback (most recent call last)",
            "\u001b[0;32m/tmp/ipython-input-3471027773.py\u001b[0m in \u001b[0;36m<cell line: 0>\u001b[0;34m()\u001b[0m\n\u001b[0;32m----> 1\u001b[0;31m \u001b[0;32mwith\u001b[0m \u001b[0mopen\u001b[0m\u001b[0;34m(\u001b[0m\u001b[0;34m\"practice.txt\"\u001b[0m\u001b[0;34m,\u001b[0m\u001b[0;34m\"r\"\u001b[0m\u001b[0;34m)\u001b[0m \u001b[0;32mas\u001b[0m \u001b[0mdata\u001b[0m\u001b[0;34m:\u001b[0m\u001b[0;34m\u001b[0m\u001b[0;34m\u001b[0m\u001b[0m\n\u001b[0m\u001b[1;32m      2\u001b[0m \u001b[0;34m\u001b[0m\u001b[0m\n\u001b[1;32m      3\u001b[0m     \u001b[0mprint\u001b[0m\u001b[0;34m(\u001b[0m\u001b[0mdata\u001b[0m\u001b[0;34m.\u001b[0m\u001b[0mread\u001b[0m\u001b[0;34m(\u001b[0m\u001b[0;34m)\u001b[0m\u001b[0;34m)\u001b[0m\u001b[0;34m\u001b[0m\u001b[0;34m\u001b[0m\u001b[0m\n\u001b[1;32m      4\u001b[0m \u001b[0;34m\u001b[0m\u001b[0m\n\u001b[1;32m      5\u001b[0m     \u001b[0;31m#print(data.readline())\u001b[0m\u001b[0;34m\u001b[0m\u001b[0;34m\u001b[0m\u001b[0m\n",
            "\u001b[0;31mFileNotFoundError\u001b[0m: [Errno 2] No such file or directory: 'practice.txt'"
          ]
        }
      ]
    },
    {
      "cell_type": "markdown",
      "source": [
        "####**TASK P13.2** Explore file object functions to read and print practice.txt"
      ],
      "metadata": {
        "id": "GLO6tBYNVzYZ"
      }
    },
    {
      "cell_type": "markdown",
      "source": [
        "#<font color=blue>**P14.**</font> Store the content, close the file, and join ( ) the list"
      ],
      "metadata": {
        "id": "iupO8iI-ZYAe"
      }
    },
    {
      "cell_type": "code",
      "source": [
        "with open(\"practice.txt\",\"r\") as data:\n",
        "\n",
        "  list_of_lines=data.readlines()\n",
        "\n",
        "print (list_of_lines)"
      ],
      "metadata": {
        "id": "8U5w2qOudDyp",
        "colab": {
          "base_uri": "https://localhost:8080/",
          "height": 211
        },
        "outputId": "fe58727b-ca6b-49e1-fe6a-ad0a94366057"
      },
      "execution_count": 27,
      "outputs": [
        {
          "output_type": "error",
          "ename": "FileNotFoundError",
          "evalue": "[Errno 2] No such file or directory: 'practice.txt'",
          "traceback": [
            "\u001b[0;31m---------------------------------------------------------------------------\u001b[0m",
            "\u001b[0;31mFileNotFoundError\u001b[0m                         Traceback (most recent call last)",
            "\u001b[0;32m/tmp/ipython-input-491309688.py\u001b[0m in \u001b[0;36m<cell line: 0>\u001b[0;34m()\u001b[0m\n\u001b[0;32m----> 1\u001b[0;31m \u001b[0;32mwith\u001b[0m \u001b[0mopen\u001b[0m\u001b[0;34m(\u001b[0m\u001b[0;34m\"practice.txt\"\u001b[0m\u001b[0;34m,\u001b[0m\u001b[0;34m\"r\"\u001b[0m\u001b[0;34m)\u001b[0m \u001b[0;32mas\u001b[0m \u001b[0mdata\u001b[0m\u001b[0;34m:\u001b[0m\u001b[0;34m\u001b[0m\u001b[0;34m\u001b[0m\u001b[0m\n\u001b[0m\u001b[1;32m      2\u001b[0m \u001b[0;34m\u001b[0m\u001b[0m\n\u001b[1;32m      3\u001b[0m   \u001b[0mlist_of_lines\u001b[0m\u001b[0;34m=\u001b[0m\u001b[0mdata\u001b[0m\u001b[0;34m.\u001b[0m\u001b[0mreadlines\u001b[0m\u001b[0;34m(\u001b[0m\u001b[0;34m)\u001b[0m\u001b[0;34m\u001b[0m\u001b[0;34m\u001b[0m\u001b[0m\n\u001b[1;32m      4\u001b[0m \u001b[0;34m\u001b[0m\u001b[0m\n\u001b[1;32m      5\u001b[0m \u001b[0mprint\u001b[0m \u001b[0;34m(\u001b[0m\u001b[0mlist_of_lines\u001b[0m\u001b[0;34m)\u001b[0m\u001b[0;34m\u001b[0m\u001b[0;34m\u001b[0m\u001b[0m\n",
            "\u001b[0;31mFileNotFoundError\u001b[0m: [Errno 2] No such file or directory: 'practice.txt'"
          ]
        }
      ]
    },
    {
      "cell_type": "markdown",
      "source": [
        "####**TASK P14.1** Read practice.txt into a list of lines. Then, after the file is closed, use the join ( ) function to print the contents so it looks like the original input."
      ],
      "metadata": {
        "id": "5pPhGmQYiiKx"
      }
    },
    {
      "cell_type": "code",
      "source": [
        "print (\"_\".join())"
      ],
      "metadata": {
        "id": "XLvFZ9uSeyYH",
        "colab": {
          "base_uri": "https://localhost:8080/",
          "height": 141
        },
        "outputId": "7576b160-f05f-47cb-a293-d05393f402ca"
      },
      "execution_count": 28,
      "outputs": [
        {
          "output_type": "error",
          "ename": "TypeError",
          "evalue": "str.join() takes exactly one argument (0 given)",
          "traceback": [
            "\u001b[0;31m---------------------------------------------------------------------------\u001b[0m",
            "\u001b[0;31mTypeError\u001b[0m                                 Traceback (most recent call last)",
            "\u001b[0;32m/tmp/ipython-input-1349047648.py\u001b[0m in \u001b[0;36m<cell line: 0>\u001b[0;34m()\u001b[0m\n\u001b[0;32m----> 1\u001b[0;31m \u001b[0mprint\u001b[0m \u001b[0;34m(\u001b[0m\u001b[0;34m\"_\"\u001b[0m\u001b[0;34m.\u001b[0m\u001b[0mjoin\u001b[0m\u001b[0;34m(\u001b[0m\u001b[0;34m)\u001b[0m\u001b[0;34m)\u001b[0m\u001b[0;34m\u001b[0m\u001b[0;34m\u001b[0m\u001b[0m\n\u001b[0m",
            "\u001b[0;31mTypeError\u001b[0m: str.join() takes exactly one argument (0 given)"
          ]
        }
      ]
    },
    {
      "cell_type": "markdown",
      "source": [
        "#<font color=blue>**P15.**</font> Combining for loops with file objects"
      ],
      "metadata": {
        "id": "lY924yM0jckW"
      }
    },
    {
      "cell_type": "markdown",
      "source": [
        "####**TASK P15.1** Use a for loop to print each line in practice.txt"
      ],
      "metadata": {
        "id": "NvqGEl4JjpiO"
      }
    },
    {
      "cell_type": "code",
      "source": [
        "with open(\"practice.txt\",\"r\") as data:\n",
        "\n",
        "  for line in data:\n",
        "    print (line)"
      ],
      "metadata": {
        "id": "snY-10pUkMby",
        "colab": {
          "base_uri": "https://localhost:8080/",
          "height": 193
        },
        "outputId": "0910fdc6-3076-4e81-cf57-dc474cddaeac"
      },
      "execution_count": 29,
      "outputs": [
        {
          "output_type": "error",
          "ename": "FileNotFoundError",
          "evalue": "[Errno 2] No such file or directory: 'practice.txt'",
          "traceback": [
            "\u001b[0;31m---------------------------------------------------------------------------\u001b[0m",
            "\u001b[0;31mFileNotFoundError\u001b[0m                         Traceback (most recent call last)",
            "\u001b[0;32m/tmp/ipython-input-124078916.py\u001b[0m in \u001b[0;36m<cell line: 0>\u001b[0;34m()\u001b[0m\n\u001b[0;32m----> 1\u001b[0;31m \u001b[0;32mwith\u001b[0m \u001b[0mopen\u001b[0m\u001b[0;34m(\u001b[0m\u001b[0;34m\"practice.txt\"\u001b[0m\u001b[0;34m,\u001b[0m\u001b[0;34m\"r\"\u001b[0m\u001b[0;34m)\u001b[0m \u001b[0;32mas\u001b[0m \u001b[0mdata\u001b[0m\u001b[0;34m:\u001b[0m\u001b[0;34m\u001b[0m\u001b[0;34m\u001b[0m\u001b[0m\n\u001b[0m\u001b[1;32m      2\u001b[0m \u001b[0;34m\u001b[0m\u001b[0m\n\u001b[1;32m      3\u001b[0m   \u001b[0;32mfor\u001b[0m \u001b[0mline\u001b[0m \u001b[0;32min\u001b[0m \u001b[0mdata\u001b[0m\u001b[0;34m:\u001b[0m\u001b[0;34m\u001b[0m\u001b[0;34m\u001b[0m\u001b[0m\n\u001b[1;32m      4\u001b[0m     \u001b[0mprint\u001b[0m \u001b[0;34m(\u001b[0m\u001b[0mline\u001b[0m\u001b[0;34m)\u001b[0m\u001b[0;34m\u001b[0m\u001b[0;34m\u001b[0m\u001b[0m\n",
            "\u001b[0;31mFileNotFoundError\u001b[0m: [Errno 2] No such file or directory: 'practice.txt'"
          ]
        }
      ]
    },
    {
      "cell_type": "markdown",
      "source": [
        "####**TASK P15.2** <font color=orange>**Complete Rosalind Problem #4 Working with Files**</font>\n"
      ],
      "metadata": {
        "id": "DHzE7CI4lWGw"
      }
    },
    {
      "cell_type": "code",
      "source": [
        "# input and output file paths\n",
        "input_file = \"rosalind_4_input.txt\"\n",
        "output_file = \"rosalind_4_output.txt\"\n",
        "\n",
        "# Read lines\n",
        "with open(input_file, \"r\") as f:\n",
        "    lines = f.readlines()\n",
        "\n",
        "# Select even-numbered lines\n",
        "even_lines = [line for i, line in enumerate(lines, start=1) if i % 2 == 0]\n",
        "\n",
        "# Write to output file\n",
        "with open(output_file, \"w\") as f:\n",
        "    f.writelines(even_lines)\n",
        "\n",
        "# display the even-numbered lines\n",
        "for line in even_lines:\n",
        "    print(line.strip())"
      ],
      "metadata": {
        "id": "8QR9dRFtltBN",
        "colab": {
          "base_uri": "https://localhost:8080/"
        },
        "outputId": "831cde48-af84-40bd-d7e8-142005edc52e"
      },
      "execution_count": 41,
      "outputs": [
        {
          "output_type": "stream",
          "name": "stdout",
          "text": [
            "Some things in life are bad, they can really make you mad\n",
            "Other things just make you swear and curse\n",
            "When you're chewing on life's gristle, don't grumble give a whistle\n",
            "This will help things turn out for the best\n",
            "Always look on the bright side of life\n",
            "Always look on the right side of life\n",
            "If life seems jolly rotten, there's something you've forgotten\n",
            "And that's to laugh and smile and dance and sing\n",
            "When you're feeling in the dumps, don't be silly, chumps\n",
            "Just purse your lips and whistle, that's the thing\n",
            "So, always look on the bright side of death\n",
            "Just before you draw your terminal breath\n",
            "Life's a counterfeit and when you look at it\n",
            "Life's a laugh and death's the joke, it's true\n",
            "You see, it's all a show, keep them laughing as you go\n",
            "Just remember the last laugh is on you\n",
            "Always look on the bright side of life\n",
            "And always look on the right side of life\n",
            "Always look on the bright side of life\n",
            "And always look on the right side of life\n"
          ]
        }
      ]
    },
    {
      "cell_type": "markdown",
      "source": [
        "####**<font color=crimson>TASK 15.4 Commit to GitHub**</font>"
      ],
      "metadata": {
        "id": "GJ_acW4WlwDn"
      }
    },
    {
      "cell_type": "markdown",
      "source": [
        "#<font color=blue>**P16.**</font> ```for word in line.split()``` – looping over strings and splitting by any delimiter"
      ],
      "metadata": {
        "id": "WD5wnvQkmh6E"
      }
    },
    {
      "cell_type": "markdown",
      "source": [
        "####**TASK P16.1** Print each word in the ROSALIND Problem #5 Sample Dataset on a separate line.\n"
      ],
      "metadata": {
        "id": "kApNvgOLn8lp"
      }
    },
    {
      "cell_type": "code",
      "source": [
        "with open(\"practice_5.txt\",\"r\") as data:\n",
        "\n",
        "  line=data.read()\n",
        "\n",
        "for word in line.split():\n",
        "    print (word)"
      ],
      "metadata": {
        "colab": {
          "base_uri": "https://localhost:8080/"
        },
        "id": "PBjyhwclpKoM",
        "outputId": "afb464a8-3407-43ec-e091-5e57dd22b646"
      },
      "execution_count": null,
      "outputs": [
        {
          "output_type": "stream",
          "name": "stdout",
          "text": [
            "We\n",
            "tried\n",
            "list\n",
            "and\n",
            "we\n",
            "tried\n",
            "dicts\n",
            "also\n",
            "we\n",
            "tried\n",
            "Zen\n"
          ]
        }
      ]
    },
    {
      "cell_type": "markdown",
      "source": [
        "#<font color=blue>**P17.**</font> Python Dictionaries { }"
      ],
      "metadata": {
        "id": "kq9QbEttnA4h"
      }
    },
    {
      "cell_type": "markdown",
      "source": [
        "####**TASK 17.1** Create and print your first dictionary"
      ],
      "metadata": {
        "id": "lVudFQkZqJgh"
      }
    },
    {
      "cell_type": "code",
      "source": [
        "sequences = {\n",
        "    \"H.neandertalensis\":\"ACGTCGCTCTGCTA\",\n",
        "    \"H.sapiens\":\"ACGTCACTCTGCTA\"\n",
        "    }\n",
        "\n",
        "print (sequences)"
      ],
      "metadata": {
        "colab": {
          "base_uri": "https://localhost:8080/"
        },
        "id": "IzKFWDlgq6zo",
        "outputId": "1a4d0584-afcb-46ea-fac1-265bbc7bcd89"
      },
      "execution_count": null,
      "outputs": [
        {
          "output_type": "stream",
          "name": "stdout",
          "text": [
            "{'H.neandertalensis': 'ACGTCGCTCTGCTA', 'H.sapiens': 'ACGTCACTCTGCTA'}\n",
            "ACGTCACTCTGCTA\n",
            ">H.neandertalensis\n",
            "ACGTCGCTCTGCTA\n",
            ">H.sapiens\n",
            "ACGTCACTCTGCTA\n",
            ">P.troglodytes\n",
            "ACGTCACTCTCCTA\n",
            ">G.gorilla\n",
            "ACGTCCTCCTA\n",
            ">H.erectus\n",
            "ACGTCACTCTGCTA\n"
          ]
        },
        {
          "output_type": "execute_result",
          "data": {
            "text/plain": [
              "{'H.neandertalensis': 'ACGTCGCTCTGCTA',\n",
              " 'H.sapiens': 'ACGTCACTCTGCTA',\n",
              " 'P.troglodytes': 'ACGTCACTCTCCTA',\n",
              " 'G.gorilla': 'ACGTCCTCCTA',\n",
              " 'H.erectus': 'ACGTCACTCTGCTA'}"
            ]
          },
          "metadata": {},
          "execution_count": 60
        }
      ]
    },
    {
      "cell_type": "markdown",
      "source": [
        "#<font color=blue>**P18.**</font> Manipulating and printing dictionaries"
      ],
      "metadata": {
        "id": "OvqoT6UwnK0g"
      }
    },
    {
      "cell_type": "markdown",
      "source": [
        "####**TASK 18.1** Modify line 8 to create a fasta file of the hominid sequences"
      ],
      "metadata": {
        "id": "5Be2tcQRrjso"
      }
    },
    {
      "cell_type": "code",
      "source": [
        "sequences[\"P.troglodytes\"]=\"ACGTCACTCTCCTA\"\n",
        "\n",
        "sequences.update({\"G.gorilla\":\"ACGTCCTCCTA\", \"H.erectus\":\"ACGTCACTCTGCTA\"})\n",
        "\n",
        "print (sequences[\"H.sapiens\"])\n",
        "\n",
        "for key,value in sequences.items():\n",
        "     print (key,value)"
      ],
      "metadata": {
        "colab": {
          "base_uri": "https://localhost:8080/"
        },
        "id": "b-2XDof4rtP8",
        "outputId": "1e998098-f26e-4df1-fd79-38816a84ee15"
      },
      "execution_count": null,
      "outputs": [
        {
          "output_type": "stream",
          "name": "stdout",
          "text": [
            "ACGTCACTCTGCTA\n",
            "H.neandertalensis ACGTCGCTCTGCTA\n",
            "H.sapiens ACGTCACTCTGCTA\n",
            "P.troglodytes ACGTCACTCTCCTA\n",
            "G.gorilla ACGTCCTCCTA\n",
            "H.erectus ACGTCACTCTGCTA\n"
          ]
        }
      ]
    },
    {
      "cell_type": "markdown",
      "source": [
        "####**TASK P18.2** <font color= orange>**Complete Rosalind Problem #5  Dictionaries**</font>"
      ],
      "metadata": {
        "id": "Y98OZYUNvmWD"
      }
    },
    {
      "cell_type": "code",
      "source": [
        "# Given string\n",
        "s = \"When I find myself in times of trouble Mother Mary comes to me Speaking words of wisdom let it be And in my hour of darkness she is standing right in front of me Speaking words of wisdom let it be Let it be let it be let it be let it be Whisper words of wisdom let it be And when the broken hearted people living in the world agree There will be an answer let it be For though they may be parted there is still a chance that they will see There will be an answer let it be Let it be let it be let it be let it be There will be an answer let it be Let it be let it be let it be let it be Whisper words of wisdom let it be Let it be let it be let it be let it be Whisper words of wisdom let it be And when the night is cloudy there is still a light that shines on me Shine until tomorrow let it be I wake up to the sound of music Mother Mary comes to me Speaking words of wisdom let it be Let it be let it be let it be yeah let it be There will be an answer let it be Let it be let it be let it be yeah let it be Whisper words of wisdom let it be\"\n",
        "# Split into words\n",
        "words = s.split()\n",
        "\n",
        "# empty dictionary\n",
        "word_counts = {}\n",
        "\n",
        "# Count occurrences\n",
        "for word in words:\n",
        "    if word in word_counts:\n",
        "        word_counts[word] += 1\n",
        "    else:\n",
        "        word_counts[word] = 1\n",
        "\n",
        "# Print word counts\n",
        "for word, count in word_counts.items():\n",
        "    print(word, count)"
      ],
      "metadata": {
        "id": "lD3KoTY9wWa7",
        "colab": {
          "base_uri": "https://localhost:8080/"
        },
        "outputId": "4eb31954-3e21-4250-93c5-87b4ecf2b1b4"
      },
      "execution_count": 32,
      "outputs": [
        {
          "output_type": "stream",
          "name": "stdout",
          "text": [
            "When 1\n",
            "I 2\n",
            "find 1\n",
            "myself 1\n",
            "in 4\n",
            "times 1\n",
            "of 11\n",
            "trouble 1\n",
            "Mother 2\n",
            "Mary 2\n",
            "comes 2\n",
            "to 3\n",
            "me 4\n",
            "Speaking 3\n",
            "words 7\n",
            "wisdom 7\n",
            "let 30\n",
            "it 36\n",
            "be 41\n",
            "And 3\n",
            "my 1\n",
            "hour 1\n",
            "darkness 1\n",
            "she 1\n",
            "is 4\n",
            "standing 1\n",
            "right 1\n",
            "front 1\n",
            "Let 6\n",
            "Whisper 4\n",
            "when 2\n",
            "the 4\n",
            "broken 1\n",
            "hearted 1\n",
            "people 1\n",
            "living 1\n",
            "world 1\n",
            "agree 1\n",
            "There 4\n",
            "will 5\n",
            "an 4\n",
            "answer 4\n",
            "For 1\n",
            "though 1\n",
            "they 2\n",
            "may 1\n",
            "parted 1\n",
            "there 2\n",
            "still 2\n",
            "a 2\n",
            "chance 1\n",
            "that 2\n",
            "see 1\n",
            "night 1\n",
            "cloudy 1\n",
            "light 1\n",
            "shines 1\n",
            "on 1\n",
            "Shine 1\n",
            "until 1\n",
            "tomorrow 1\n",
            "wake 1\n",
            "up 1\n",
            "sound 1\n",
            "music 1\n",
            "yeah 2\n"
          ]
        }
      ]
    },
    {
      "cell_type": "markdown",
      "source": [
        "####**<font color=crimson>TASK 18.3 Commit to GitHub**</font>"
      ],
      "metadata": {
        "id": "1dJdfy4bwVO4"
      }
    },
    {
      "cell_type": "markdown",
      "source": [
        "#<font color=blue>**P19.**</font> ```count()``` – counting things made easy"
      ],
      "metadata": {
        "id": "28ygQlYJnZoA"
      }
    },
    {
      "cell_type": "markdown",
      "source": [
        "####**TASK P19.1** <font color= orange>**Complete Rosalind Problem #6  Counting DNA Nucleotides**</font>"
      ],
      "metadata": {
        "id": "CZ9tBWDmw4D-"
      }
    },
    {
      "cell_type": "code",
      "source": [
        "# input DNA string\n",
        "dna = \"CATGAGGAATCTCTTGGGAAGTCCGCGGGTACTCATAAATCCCTAGCAGTGCCGCTTGTCATGCATACCAGCGAGCGTCGCACAAGCCGTCGCGTATTACGAGAGGACAGCGTTAAGGCAACTGCTCGTTTCTCAGTGTACGGACAGGTGCACAAAGACAGGCCCGACAGTACAAAGCAATTATGTTTCCCAACGAAGATACAGCCCGGGATTCACAGCCGATGGCATGGGTGCGTAGTTCTTAGATGATCCCGGAACAGCGAGTACAGGCACGCGTGTCCGAAGGTGTTCAGCCCTGGTAGTAAGGAATTCGCTAGCTGCCGGCGTGCAAAATGTCACTTAATATAGGTCTTCGCCCAGTTCTACGTGATCGATAGACTAGGAATACTCTGGCAAGAAAGCGAATTCACAGAATTTGCCCGGGTCAGAACCAAAGCCCCACACTTTTGCGCCTCTTCAGATACCGTCGAGGAACCGGCGCTATACACGATTAAGACTCGTTCCCAGAACGTTAGTAATGGCGTCTCAGTGTGCCCGACGTTGATGGTCTCCGCAGACTCAAGTGCACCTGAACGTACTCCCTCGGCTAGAACAAATAGAACTGCAGCGAATTGACTAGGAACGAAGTGGAGTTATTGGTAGAGGAGCTCAACCTCGGGGACCAGGCCTCATATGAGGTAGCTGTGGCCATTCATTCGAATATCGTGTCTGTACTGGTCTGGTCCTGACCCCAAATGAGTGAGTCATTTCAAGCCAAACAAGTCCCTGTTCACTGCCTCTTTATGACATCAGTTGGTTAATGAGGTACCTTAGGATACCAACCTCCTTTACCAGCAGTCTCGATTGCGTGTCGTATTCAGCCTGCCGCTACTCGATTGTCCGTAAGCCTACACGGTAATTTGCATCAAATGAA\"\n",
        "\n",
        "# Count occurrences\n",
        "a_count = dna.count('A')\n",
        "c_count = dna.count('C')\n",
        "g_count = dna.count('G')\n",
        "t_count = dna.count('T')\n",
        "\n",
        "# Print results\n",
        "print(a_count, c_count, g_count, t_count)"
      ],
      "metadata": {
        "id": "GlwS14zGxBIC",
        "colab": {
          "base_uri": "https://localhost:8080/"
        },
        "outputId": "f1fef20c-174a-43a8-e4a7-53e6891fe45a"
      },
      "execution_count": 33,
      "outputs": [
        {
          "output_type": "stream",
          "name": "stdout",
          "text": [
            "235 234 229 215\n"
          ]
        }
      ]
    },
    {
      "cell_type": "markdown",
      "source": [
        "####**TASK P19.2** Modify your code for the Rosalind #5 Dictionary problem so that it uses count( ) to count the words."
      ],
      "metadata": {
        "id": "rj-OWB6Jym5y"
      }
    },
    {
      "cell_type": "code",
      "source": [
        "# Given string\n",
        "s = \"When I find myself in times of trouble Mother Mary comes to me Speaking words of wisdom let it be And in my hour of darkness she is standing right in front of me Speaking words of wisdom let it be Let it be let it be let it be let it be Whisper words of wisdom let it be And when the broken hearted people living in the world agree There will be an answer let it be For though they may be parted there is still a chance that they will see There will be an answer let it be Let it be let it be let it be let it be There will be an answer let it be Let it be let it be let it be let it be Whisper words of wisdom let it be Let it be let it be let it be let it be Whisper words of wisdom let it be And when the night is cloudy there is still a light that shines on me Shine until tomorrow let it be I wake up to the sound of music Mother Mary comes to me Speaking words of wisdom let it be Let it be let it be let it be yeah let it be There will be an answer let it be Let it be let it be let it be yeah let it be Whisper words of wisdom let it be\"\n",
        "\n",
        "# Split the string into words\n",
        "words = s.split()\n",
        "\n",
        "# Count occurrences using count()\n",
        "unique_words = set(words)\n",
        "for word in unique_words:\n",
        "    print(word, words.count(word))"
      ],
      "metadata": {
        "id": "9H_S6jLnzfxR",
        "colab": {
          "base_uri": "https://localhost:8080/"
        },
        "outputId": "fec60535-8816-4ef9-8434-48c1805dff48"
      },
      "execution_count": 34,
      "outputs": [
        {
          "output_type": "stream",
          "name": "stdout",
          "text": [
            "Mother 2\n",
            "Speaking 3\n",
            "up 1\n",
            "darkness 1\n",
            "agree 1\n",
            "Mary 2\n",
            "to 3\n",
            "she 1\n",
            "world 1\n",
            "Shine 1\n",
            "on 1\n",
            "I 2\n",
            "And 3\n",
            "the 4\n",
            "though 1\n",
            "chance 1\n",
            "There 4\n",
            "comes 2\n",
            "let 30\n",
            "light 1\n",
            "people 1\n",
            "hour 1\n",
            "cloudy 1\n",
            "night 1\n",
            "until 1\n",
            "shines 1\n",
            "Whisper 4\n",
            "still 2\n",
            "yeah 2\n",
            "there 2\n",
            "sound 1\n",
            "For 1\n",
            "be 41\n",
            "hearted 1\n",
            "times 1\n",
            "a 2\n",
            "living 1\n",
            "will 5\n",
            "when 2\n",
            "an 4\n",
            "in 4\n",
            "find 1\n",
            "parted 1\n",
            "right 1\n",
            "front 1\n",
            "standing 1\n",
            "that 2\n",
            "wisdom 7\n",
            "of 11\n",
            "my 1\n",
            "me 4\n",
            "tomorrow 1\n",
            "wake 1\n",
            "music 1\n",
            "it 36\n",
            "may 1\n",
            "broken 1\n",
            "words 7\n",
            "myself 1\n",
            "is 4\n",
            "Let 6\n",
            "When 1\n",
            "answer 4\n",
            "see 1\n",
            "they 2\n",
            "trouble 1\n"
          ]
        }
      ]
    },
    {
      "cell_type": "markdown",
      "source": [
        "####**<font color=crimson>TASK 19.3 Commit to GitHub**</font>\n"
      ],
      "metadata": {
        "id": "RzMon_wAzg7D"
      }
    },
    {
      "cell_type": "markdown",
      "source": [
        "#<font color=blue>**P20.**</font> Installing biopython"
      ],
      "metadata": {
        "id": "-IB0c2gG0Z1O"
      }
    },
    {
      "cell_type": "code",
      "source": [
        "!pip install biopython"
      ],
      "metadata": {
        "colab": {
          "base_uri": "https://localhost:8080/"
        },
        "id": "pinPQdEn0mJM",
        "outputId": "9346ffcc-f0ba-45e8-db6d-041f0a01c58e"
      },
      "execution_count": 35,
      "outputs": [
        {
          "output_type": "stream",
          "name": "stdout",
          "text": [
            "Collecting biopython\n",
            "  Downloading biopython-1.85-cp312-cp312-manylinux_2_17_x86_64.manylinux2014_x86_64.whl.metadata (13 kB)\n",
            "Requirement already satisfied: numpy in /usr/local/lib/python3.12/dist-packages (from biopython) (2.0.2)\n",
            "Downloading biopython-1.85-cp312-cp312-manylinux_2_17_x86_64.manylinux2014_x86_64.whl (3.3 MB)\n",
            "\u001b[2K   \u001b[90m━━━━━━━━━━━━━━━━━━━━━━━━━━━━━━━━━━━━━━━━\u001b[0m \u001b[32m3.3/3.3 MB\u001b[0m \u001b[31m33.6 MB/s\u001b[0m eta \u001b[36m0:00:00\u001b[0m\n",
            "\u001b[?25hInstalling collected packages: biopython\n",
            "Successfully installed biopython-1.85\n"
          ]
        }
      ]
    },
    {
      "cell_type": "code",
      "metadata": {
        "colab": {
          "base_uri": "https://localhost:8080/"
        },
        "id": "5ccd6f0b",
        "outputId": "93af14f8-a21b-4425-af64-4eac3740f223"
      },
      "source": [
        "try:\n",
        "  from Bio.Seq import Seq\n",
        "  print(\"Biopython is installed correctly.\")\n",
        "except ImportError:\n",
        "  print(\"Biopython is not installed or there was an import error.\")"
      ],
      "execution_count": 36,
      "outputs": [
        {
          "output_type": "stream",
          "name": "stdout",
          "text": [
            "Biopython is installed correctly.\n"
          ]
        }
      ]
    },
    {
      "cell_type": "markdown",
      "source": [
        "#<font color=blue>**P21.**</font> Seq( ) – a function to define sequence objects"
      ],
      "metadata": {
        "id": "IGX-ThdQ3RuA"
      }
    },
    {
      "cell_type": "code",
      "source": [
        "from Bio.Seq import Seq\n",
        "\n",
        "my_sequence = Seq(\"GATGGAACTTGACTACGTAAATT\")"
      ],
      "metadata": {
        "id": "ltZBr8mE4OhM"
      },
      "execution_count": null,
      "outputs": []
    },
    {
      "cell_type": "markdown",
      "source": [
        "####**TASK BP21.2** <font color=orange> **Complete Rosalind #7 Transcribing DNA into RNA**</font>"
      ],
      "metadata": {
        "id": "UXCuEFxg6Jxx"
      }
    },
    {
      "cell_type": "code",
      "source": [
        "# Given DNA string\n",
        "dna = \"GCGCTGGAAGCCCTCTCAAGCCCAAACTGAGTGTCTAAGCCGGGATGAGGTCCCTTTTGTCTGTGGGCGTCCCAGGCTTAATTTTCTCCCTGCCGAGGAACCGGGGGTGTGACCCGTTCAATTAAGAAATTTTGTTACGATCTGCATCCATTCTCACGGCTGGCTGCATAATATAACGCACCCGCCAACAGAAGCCCCGCCGGCACTAGCGTGAATGCGCGTGAAAACGAGTGCTTTCCGGACAAGGCGACTCATGATCCACAGTCCGCTTATCGTTTGGTACGCCTGCAATCGAATCGACTGAAACCGCATCCCGAGTGGAGTGGAAACGTTACCGAATGGTGGATTAGTCAGTAGAAGTTTGAGTCTTCTGTTTGAGGCTACCCATAATACACTACATGGAGCCTGCCCCTTATGTCAAGTAGATGTAATGCAGTCGTTTGCGCGGCCCGGTGGACCTATTGTATGATGGTAGACAAGCCAAACCACGTAGTAAATATTGAACCACTCTGTCGTCCGTCTATGGCCGGGCCAAGCGTACAGGATTCCCTAAAGAGAATTCTCTCGTCCGCGTACGCCAATTGATGCAACCATCTTTAGGCTGTTAAAAAGGAAAAACCTAATTACTGTGGATCTACCGCGGAGGGGACAAACTGCACTATCGTGAGGCTAAGAGGTAGATTGACTCCGAAGTGCATGGTCCGGCTAAAGCAAGGTAGGCTAGCGTTGACCGAAATGAGGACGTCACCTTAACGTATAGGCGTCTCTGTTAAACTAAAACGCTTTACAAAACACCACTCCTATAAATGAAAGTTGCGACGAAACTCTTCTCCAGTTGCAATTACCGTCAAAAAACGGCGGTAAGGGAGTAACAATGATAGCGGCTGGGCTATCTCAAAG\"\n",
        "\n",
        "# Replace all 'T' with 'U' to get RNA\n",
        "rna = dna.replace('T', 'U')\n",
        "\n",
        "# Print the transcribed RNA string\n",
        "print(rna)"
      ],
      "metadata": {
        "id": "UXt6gWLM6qde",
        "colab": {
          "base_uri": "https://localhost:8080/"
        },
        "outputId": "717ada90-b71f-4f8a-84c3-a494c650fd71"
      },
      "execution_count": 37,
      "outputs": [
        {
          "output_type": "stream",
          "name": "stdout",
          "text": [
            "GCGCUGGAAGCCCUCUCAAGCCCAAACUGAGUGUCUAAGCCGGGAUGAGGUCCCUUUUGUCUGUGGGCGUCCCAGGCUUAAUUUUCUCCCUGCCGAGGAACCGGGGGUGUGACCCGUUCAAUUAAGAAAUUUUGUUACGAUCUGCAUCCAUUCUCACGGCUGGCUGCAUAAUAUAACGCACCCGCCAACAGAAGCCCCGCCGGCACUAGCGUGAAUGCGCGUGAAAACGAGUGCUUUCCGGACAAGGCGACUCAUGAUCCACAGUCCGCUUAUCGUUUGGUACGCCUGCAAUCGAAUCGACUGAAACCGCAUCCCGAGUGGAGUGGAAACGUUACCGAAUGGUGGAUUAGUCAGUAGAAGUUUGAGUCUUCUGUUUGAGGCUACCCAUAAUACACUACAUGGAGCCUGCCCCUUAUGUCAAGUAGAUGUAAUGCAGUCGUUUGCGCGGCCCGGUGGACCUAUUGUAUGAUGGUAGACAAGCCAAACCACGUAGUAAAUAUUGAACCACUCUGUCGUCCGUCUAUGGCCGGGCCAAGCGUACAGGAUUCCCUAAAGAGAAUUCUCUCGUCCGCGUACGCCAAUUGAUGCAACCAUCUUUAGGCUGUUAAAAAGGAAAAACCUAAUUACUGUGGAUCUACCGCGGAGGGGACAAACUGCACUAUCGUGAGGCUAAGAGGUAGAUUGACUCCGAAGUGCAUGGUCCGGCUAAAGCAAGGUAGGCUAGCGUUGACCGAAAUGAGGACGUCACCUUAACGUAUAGGCGUCUCUGUUAAACUAAAACGCUUUACAAAACACCACUCCUAUAAAUGAAAGUUGCGACGAAACUCUUCUCCAGUUGCAAUUACCGUCAAAAAACGGCGGUAAGGGAGUAACAAUGAUAGCGGCUGGGCUAUCUCAAAG\n"
          ]
        }
      ]
    },
    {
      "cell_type": "markdown",
      "source": [
        "####**TASK BP21.2** <font color=orange> **Complete Rosalind #8  Translating RNA into Protein**</font>"
      ],
      "metadata": {
        "id": "9P4_MaXp6O3n"
      }
    },
    {
      "cell_type": "code",
      "source": [
        "# RNA Codon Table\n",
        "codon_table = {\n",
        "    'UUU':'F', 'UUC':'F', 'UUA':'L', 'UUG':'L',\n",
        "    'UCU':'S', 'UCC':'S', 'UCA':'S', 'UCG':'S',\n",
        "    'UAU':'Y', 'UAC':'Y', 'UAA':'Stop', 'UAG':'Stop',\n",
        "    'UGU':'C', 'UGC':'C', 'UGA':'Stop', 'UGG':'W',\n",
        "    'CUU':'L', 'CUC':'L', 'CUA':'L', 'CUG':'L',\n",
        "    'CCU':'P', 'CCC':'P', 'CCA':'P', 'CCG':'P',\n",
        "    'CAU':'H', 'CAC':'H', 'CAA':'Q', 'CAG':'Q',\n",
        "    'CGU':'R', 'CGC':'R', 'CGA':'R', 'CGG':'R',\n",
        "    'AUU':'I', 'AUC':'I', 'AUA':'I', 'AUG':'M',\n",
        "    'ACU':'T', 'ACC':'T', 'ACA':'T', 'ACG':'T',\n",
        "    'AAU':'N', 'AAC':'N', 'AAA':'K', 'AAG':'K',\n",
        "    'AGU':'S', 'AGC':'S', 'AGA':'R', 'AGG':'R',\n",
        "    'GUU':'V', 'GUC':'V', 'GUA':'V', 'GUG':'V',\n",
        "    'GCU':'A', 'GCC':'A', 'GCA':'A', 'GCG':'A',\n",
        "    'GAU':'D', 'GAC':'D', 'GAA':'E', 'GAG':'E',\n",
        "    'GGU':'G', 'GGC':'G', 'GGA':'G', 'GGG':'G'\n",
        "}\n",
        "\n",
        "def translate_rna(rna):\n",
        "    protein = \"\"\n",
        "    # Process codons in chunks of 3\n",
        "    for i in range(0, len(rna), 3):\n",
        "        codon = rna[i:i+3]\n",
        "        if len(codon) == 3:  # only full codons\n",
        "            amino_acid = codon_table.get(codon, '')\n",
        "            if amino_acid == \"Stop\":\n",
        "                break\n",
        "            protein += amino_acid\n",
        "    return protein\n",
        "\n",
        "# Example usage\n",
        "rna = \"AUGCCCCGUGCCUGCUACCUUUUGGCGGAUUCGCAACCGGUUUCGUCGCACCACGACGACAUACCCGUCAAUAGGCUCCAAUCAAGGAUUUGCUCAACCGAACCAGACACGACUAUGCGUACCCAUGGCCAGGACGCGCCCUAUCAGGUAAGAACUCAUGCCAUCCAGGAUAGCUAUUGUUUGCCCCCAAUACGCACGCCAACUGAGAAUCAUCCAAUAUAUACGAAUGCAGGCACGUCCAUAUCGAAGUGGAAACUCUCCAAUAGAGCGGUCAUGAUCUCGCAACACGUCCCGAGGCCUAUUUACGAAAUUAACUCUUCGGCAUUGGCUGCGUACGUCUUAGCUCAGGCUACAUGGCAUAUAGAAAGAAAGGAGUCAAUCGCAACCAGGAGGCGCAUUAAGUCCUCGCCGAGCCGCCGCUCUUCCAGGGUGUUGGAUGCAGUUCCGCCUAGUGACUUCCUCGUUAAGAUCGGUUUCGCUUGCUGGAACUACAAUUCGCUGUAUGAAGCGCUAUAUUUAAAGCAUCAAUGUAUAGCGUUUCCAAUGUGUCAGUCACGCACAACAGCUCGGCCGAUAGGUUUUAACAAAACAACAGAGCGUGCUAGUCGAGGGUUUCGCAUCAGAAAUUGCUGGGGCAUCAGAGAUAGGAGUUGCCCGAGGCGGCUAGCCGAGGAAGAAUGGUGGCGAGCACCACCUUCCCGUACAGUUCUCCAUGGGCCAGUUUCGAAAUGGACCACUCUCGACCAGAUAAUCGUGGUGGCCAUUAAUCAUUCAUUCAGGUGGGGGGGAAGCAGAUAUACCUUACGGUCGUUGAACUUCACUUUUGUUGGCAGUAUUCCGCGACAUCCUGAUAUCACGGAAUUAAGGUUGAGGAAGUCGGUCAUCCCAUACCUCGCUGUUAUAGACCGAGUAAGUCGAAUAUUUGGCCCUGAGAGGGAACUACGUACUCACUCAGCAUUGGCCUACCAACAGCGUGGAGCAAUUGUCGCUACGGACCCGUGCUAUUCAAUGGGAGGUCAAUCUCGCACACAGGGGUCAUCCUCUCAUCACCCCCUACAAUCAGAGAUCAGAUCCACGGCGCGGGGUUUGCCCAAAAGGUUACAACUCACACGGGUCGACGCUUCCCCGUCAAUGUCAAGUCUCUUUGUGAGCGGGCUUGAUUACGCUGAUCCCCGUGAUGAAAACACCCCCGUGUUGCUCUUCGUAUCGGAUCACACGCGAUGGACACUCUUACUUCCGCAAGAGCAUGUGGACAGCAUUUUUCUACAGAAUAGAGGACCGAAGACUCCUACUGCCUGUCUUACAUGGCGAUACCCUUCUAUGGUCUGCGGCCGGAAGGUUAUACGCUGGAUUAUGUCAUCGUCCUCGGCAAGCCCUAACCCACGGUCUAUGCUCUUACAUAUAACGGGCCCAGUCGUCUCGUUGCGCCCUCCAAACAAUCAGAACAUCACGCUCAGAGAAAUGACGAUUGAGAGGUGCAACCGGCCCGUCAGUGCAACCUCAGGGUACCCUGCGUGCGAAACACGAAGACAACUGUUUGAAUCGUAUUUGUUGCUCCUACACUACUACCCGUCCGUGGUCGCUGACUGGACGAAUCCUUCACUGAGCUACCCCGCAGUAGUCGAAGGAAAUCUAAUAACAUCGAUACUAGUCACUCUUGACGGCAAAAAGAAUAUCAUCGAACGCCAGGUGCGCUCCCUGUCGGUUGUAAGUCACGAGAUCCACAGUAUGCACCGAGUUACCUCGCCAAAUACCCAGAUGAUACCAGAGAAAAACUCUGGCUUCAAUCAAUAUGCUUUCCUUAAGGAUGCUACAAAAUCGGUUGGCUUUAUUGCUGCCCUACGUUACGGGACUCGGCUAACCUCAGCAAGAGCCGCUAGCAGCAUGUUUAGAGAGAUAAUAGAAUCGCCAUCUCUUGUGGUUCGGGCGCCGACGUUUAAGGACUUCGUGAGAGCGGCAGGUUCACUGGAUUCAUUCCGUUUAGCCGUUGUAUCGAGUUACCCUGAGGGCCGAGGAGGACAUGGUAGUCAUCUCUUCCCAGACCGGAAGCUUCCUUCCAGUUGGAUCAUAAUACAUCAUUGGUUUCGCUGGUCACAGUCACGUCCGGGCAUUCUCCUACCGGCCAGCUGUCAGUUAUCCGUUGGGUUAUCCCAUUCGUGUCCCGCGAGAGGAGAUAGACAAGUGGGAGUCUUGUAUACCCAUAUACAGGCUUCCAAAGUAUUUCGGCAACGAGGCGGAUAUCGAGGAGGGGUUCUAUUCAUGCUUCAGGCCUCCCGUCGAUUGCACGGGGCAACUGUAGAACGGCGGUGCGAAGGCACGCUACAGAAAGUUCCCUCGCAGGCGGGGUUGGAUGUUUACGGUGACAGGUUCCUCGGGGGUAACAGUCGGCGUGCAGAGCUCGGCUAUUUGGUGGACUCUUGUUUUAUUUCGAGCCAAUUUCGGAUCAGAAACGCAUCUGACACUGCAGGGAAAAACGGCCAUCGAAUAGAGGUUAGUCGCCGAUACCCGUCUAAGGAUCACGGACCUGACGUACGGUUUUACGCUGCAGAGGCUGGCCCUAUCUUGGCCCUGUGCGGAACCGUAAAAGCGCGGACCCUUGGAAACCACACUUAUUUACAAGAGAAAGGGCGAACAGUUUAUUUAAGACAGUUGACAGGUCUCUUGGUCGCUACUCUCCAAGCACCAGUACGACGGAAUGAUGGCACUGGUCUUGAACGCGUGCUUACGUCAGCGUGUGUCGAGGCUUUGUUAUACACCUUCUUGGACGCUAGAAUGUUCUUUUCCAUCGAAGGGAGACAGGCAGCUCUGCCAACGGAGCACUCGAGCCUAACGUCCGUGAAUAAGCUUCUUAGGUUACAACGUAAACGGACGGAAUGGCACGAUCCUGAUCUAAAUAGGCACAAGCGACGUAUGCUUGGACUUUGUUUUUUGUCGCGGAGUCCGGUGCGACAUACACUUCGUAGCCUAUUUGACGACGUUGCCGAAGCCGCGAGAAGCGUUCGCGACGUAUUCGAAAUUGCGGGAAAAGUCUGCCCUGUUGGAGUUAGCGAUCGGGUAUGUUCCGUCAUGUUUGAAUGGGUGGGCGGCUUCCUGCCCAAGACUGACGCCACACUAUACAUCUGGCGCCCUAGCUCUUAUCUGGCCCUCUUGCCUCACCAUGGACAAUUUUUUUGCGAGAUAAAGCCAGGUAAAGCAAUCUGGCGGGACCGCUUUAACGGUCAGUCAACACCCACCUGGAGGCGCAGUAACUCCCCUACAGAAGCACGCGUCGUCUCUAAGGUUUUGCUUCGCGACCAUCAAUUUCAGGGUUCUAACUCCGGGAUUCUCGAGAAGACCCAUAAUCGUGUUGGCUUCUUUGCACAAUGGAUGGCUAGUGGUACACGCGGCAAGUCACGCCUCCACCUGAUAUUUUACCGGAAGGACAUACCGUGUGUUCUACUCUUGUGUUUAAGCUACCCGGCUGUUUCCGAUAAUAUUCAAAGACAAGCCUCAUGUGAUUUCAAUAACGAUUCACUAACUGAGUGCUCGAGACUCUCACGAAUCCCAAUUUACCUGGAGUAUCCCCCGAGCCCUCCCGGGAGCGGGACCCAUCAACUCCUCCUUCCAAUUAUCGCAUUUAAUCCGGCACUUAGGCCUAAUCUUGUGACGUUUCGGGACACCAUCCCGUGCGCUCGAACCAUUGUCCGGAGGGCGGCCUCGUUUCGAAUUUCAGAGAAGUUACCCGGCGCCGAAGGCACACAUGGAUGUCCCCUUAAAUACUCUUACGAUAAUCGAUGCUCUCUUAGCCCGGGACUAGAUCCCUUCUCGUUUACAUCAAUUAUCUGUACCGAUGCGCCAGUAAUCGGCAGAGCUACCGGGGACGAUAACUAUUGCAUCGAACGCAUGGUAUAUGCGGGUGUACACGUUCUAUGGCGGGGUGUUCUAGUCACGUUUUAUACCAGACCAAGUAAAAACAGAACCCAACCGUGUAUUACGUGGAAAAGUAUCUAUAAUUCUCCGGCCUUACGAGUCAGACAAUCGAUAUUUCAGGGCGAACCCGUAGUGUACCGCGAGAAGCAGUUAUUCCGUUAUCUUCUACUCCAGUGCUCCAAGAUUCGCAGCAACGGCAGAAAUGUGAGCGUCAGUCAACACUUGCUACCUCUACCAAUACGAUAUCUAACAAUAGGGCGAGACUUUGUUUUUCCCCACGAACCCUCAUCCUUCAACAGCCGCUGCUCGUUUCCACCAUAUCCUUGGUUGAGGUACGUGAACGCAAAUGUUGGACGAGAGUGUAUUCACAACUCAUAUCCCCCUCACACCAGCCAUACACUGAGCACGGAUGGCCUCAGCGGGCUACUACCUGUUAUCGUCUUAACGGUCCAUCAUAUAGCAAACGCUGUCAGCAGGAGUCAGACUGCAAUCUCCAAACUAACCGUUCCCCGACAGAGGGGGGUUGGAUUCUCAGCAGUAGCAUAUAAGUCGAUGAUGUCACUUCUCCCCACUUGUCCCCUCGAGACUACCUCAGGGCUUAUGCAAUUGCCUGUACCGCAUAUGAUCGAGAGUGCGGCUUUCAAAGGAUUCCUUGACUGGACACGUCUCAAGUGCGGCCUGCUCCUUAUGAUAACCGCUGGUAACCGGCGCUGCAUCUUGAUUGGUAGAUGUUUAAUCUUAAUGAUGGGUACACUAAUGGCGCGCGUCAAAGUUGCCACCAAGCUAAGCCCGCCGCUCAUUUACUCCGAACACAAAUGGGCCGCAGACGAUUUGGGUAUUUCACCACCGCCAGUGAUUGACCAACUCCUCAGCAUCGCAGCUGGUCGUUACGAGCGUCUAGCUCUCUAUAGGCCCCAAUUCGCGUUCCCCGACUCACUAGCACUGAAUUCCAGGGACGACUACGAGAGAGACUGCAGGGGGAGCAGUCUGAUCACUUACGCUCGGGGUGAGGCACGGCCCUUUUCGGCCAUCCCUCCACGUCAAAGGAUUCCGAUCGGAGCUCUUAGAUAUCGAGGCACUAGUAGACUCGCUUGUGAUUGCGAGCCGCCUCUGAGAAUGCCUGAAAGAGUUCACGCAACGGGCAUCAUAGCGGACAUUAACUGGGACCUGAGGUUUAUGCCUCUCACGUACAGGAGAGUGGCCGAUCUCCCUGCAGUCCGUGGGCAGAGGCCCCGGUCUGAUCACGUAAUAGUUCGCGAGCCGCGCGGAUCUGCUAAAGAUUACAGAGUGUCUGCCGAGUCCUUUAUUCAUCCAAUUAGCAUAUCGCCGUUCGCGCCUGUCACAGUACCCCAAUUAAAAUCAAGUGUCCGGUGCGAUCUGGCUAUCCUUGGCGGACGCUCUCGACGGAUCAUACCACAUUAUUCUUGUAAUUUACACUUCAACCAGCCUAGGCUCGUGUCGGUUGUAACCGUGAGACGAUCCGCCAACCUGCGUCGUCUACGCAUCGCUACGGAGGCUGCUUUCACGGGCGCCGAGGUUCGCACGCCGUAUAAGGAGAUAGACUGCUCACGGUAUCGUGUCUGUUUGCCUAAGACCCCGAUAACUUCUGCACGGUUCACAUUCUUGAGUGUUGCGAGCUUACAAGCCCGAAGGUCUCAUAUUAGUACGUAUUAUUCAUUCCCGCAAGUGAGCGGGACUACUUGGUGUGAACCGGCCACUCCAUCUGAACUUGUAGAAGAUCAUAAAAACGUCAUCCUGCGACAAAAGGAUCCGACCCUAUGUCGAUUCGCCGGCCACCUCCGUUGUUCUCCUUGUCCAUCCUCGCCAAAUCACGGUGAGUGUUCGGAGGGGAGCCCGAGUACCCCCACGGCGGCGGCAGGGUUAGCCGGUAUGGGCCCUGGGGGGUUCAUUCAUACCCAUCCCCGCGAAGGAGCGGGCUGCAUAUUGCACAACCACUGGUGGAUAGAAACAAGUUUGAAGCGGUGGAUCGCGGCCGGGUUGCAGGGACAAAGAGAGCCCAAUUCGCUUUGGAAUGAAGGCUGUUUCGUUACUUCGAGAUCAUCGGUUGUAUAUACAACAAAAUCCAUUAUGUAUAAUCGUCGUUCACGGACUCUUCUAUUGUGCAGAAUCUCCGGCACGGACCGGGUCCAAACAUAUGCGGCGCAAAUACAUGUCUCCCAAGUCAGAUGCGUCCUUUUUGAGCCAAUCACGUCAUCUGCGAGUAGAAAUCUCGGUAACGCCGCCCUCUCGGCUAGGCCUACAGGCGUAUAUCUCGUCGCCACGGCAGUUUAUACAUCUAAUUGUAACACGCAGGUAAUCCCCGCCGGCGUGUUCUCACACGGCACUCGCGACCGAGUACCAGAAAGCCUGUAUUACCCCCUAAGUUAUCAAACAAAACACCUGCUGCCUAGGCAGCACCUACAUAGAGUGUUAGUAAUCCCCCUUGAAACACAUUGUCAUAUCCCUAAAUCGGGACUUUGCUCACCAGUUAGAUUUGAACGUGACACUAGCGCUGAGGGUACUAGGUUUCACUACACUACCGUGUCGUACACACAUCGCGUAUCCCUACCGAGUAGUAAAACCGAGACCUCCGGACCCCUCCAUCUUUAUCACGCCCAUGAGUCCGGGUCCAGUAAGUCCGUAUAUAUCCAUCUUAGAAGCAUUCCAGGAUUCACGCAGUCAUGUGAUGACGGUAGAGAGAUCCGAACUUCCCAUUCCGCCUCUAUCGUAGUUUCACGUCACUUAUUAACUCGGAAAUUAAAUCCCUCUUACUUGACUCAUUCGUGUCGAGGUGGACCGACAGACGCUCUCCCACUAAUCCACAGGGGGACCGACCGCAUAGCUGAGAGCGAAUUACGCAUGCCCCAUCGACCCGCUCGUCUAUGCACCUACCCCAAACACAAUAGUCGCUUGUGUUGGAAUAGGACCGUAGGACGUGGUAAAGUAGAACACAGGUGUCCUGCCCUCAAUAGGACCAGCCCGAAAGUGGUCCAAUGGUUAUUCCGUACCAUCAUUCUGGAGCUUGGCUACUACGAUGAAACAGUGUGUGAUCAUGGGGAAGAGGAUCUUUCCCUUCAUAUUGAAGCGAUAAAGAGCUCCAUGCGAGAUCGUAUUCUACUAGGCCAAUGUAGCGAUGUAGUAACAGACAUACACGUGCGAGAAUCGAGAAUAAAUUCUGGCAUAAGGGAGUUAUCAACUCGAAACGCCGUAAGAUUAUUCAGUCCGCGUUCCUGCGGAGGGUCGCCAAGUAAGUGCAAACGUCCCUGGACCACUCGCGGCGACCUCCUUUCUACCGUUUGCUCCAUCGACUCAGCAGCGGCUUUAUAUUGCGGAACUCUAUCUCAACCGACGAGACGAUGUGGGGCUGGGAUCCAUUGCGAAAUUCCCUAUGGUAAUUACCAACGAGUUCAUGGGCGCAUUCACGGAGUUCGAGGCUCCAUUAAACUUGAUCCUCGAGAGGUACGGGGGUCGAUGGAGUCACCCGCGCAGUUGUCACUUAAUGAGCUCUUGGAGCUUGGGAGCCGCAGACCAAAUGUAUUGGGACAAUCUCUUAGCACAACAAUACUUCCGCCCUGUUUGGGUAGCAGAGGCAGGUUAAGCUCACCGUCCUUUGAAUCGGAGAAAAGAUCUCAGGGCGCAUCCGAAUUUCUCCCAUGUACUUGUACCGGCCAACACUGGUGUCGCCUUCUUGUUCCCGCGCGCGGACUAUGGAACAGAAUUCGUUCUAUGGACGUAAGACGAACGUUCACGCCUGACAGAGGUCCGCACACUACUGCAAUGAUGAGACGCGCCUCUCUGGUCUCAUCCGCUUUUAGCGGGGAAACGCAAUCAGGCCCGGUCCGGAUGUCCGAUGAUCGACUAGUGCAGUUUUUAGAGUGGUCACGAGGUAUCGAUAAACCUCUCGGUUUGUUGCUACGAGGCCGCCGAUCGCGGCGCCCGAUCCAGCAACUCCUCGGGGUCUUGACUCUGGGUAUCUCAGCUUACGGAUUACCAGGGUGGGCACUGGGAUAUAACCCCGACGGAGAAUUGUACUUUGAUCACUCAGAAACUCCGUUCCUCAGCGAAAUGCUGAUAACUGAUCUCACUCAACGGUACUACGCGGAUUACAGGAGGUUCAACAACCGUGUGCCUGGAACGGUUCGUGUUUAUCACCAGUCGUUAAGGCCGUUUGGGGGUCAUCAAGAAUACUGGGUUGACCUAACUACUCGCCUAGAGCACUUGGAUUUCAUGGCCUCCCAUGAUCCUCCUUUACGAGAUGUGUCCCCCUCAAGUAUUGCGAUCGGUUUCCGUCUGAAGAAAGGAUUUCCCAUCGAACUAGGCGGUCUGAUUACAGCACCUGGUGGUGACAAAGUUCACAAGUGUCUUCAUUAUCCAUUUGAAGGGGUAAUUAUCUGGGCCAAUAAAUGUUAUAGACCUUUCGUCCAUAAAAUUACCGACGCCCAAUUUUGCCCGGAACAAGAUGUCGCCACACCGCGAGCGGCAUGGGACAAUUUUGUGGCCGGUCUUAGACCUUGCAUGCGAAGUGCCCAUUGUCGAAUGCUGCGUAUAGAUGAAGUGAGAGAAAAAUCGCGUUAUGAUAACCGAUCCAGUUUUUGCCAUCUCAUGAGUUGGCUUCGUAUCUCUCAGAGUAGAACAGCAAUCGCAAAGUUAAAUGUCAAUCUAUUCAGCUGUUCCCGGAGGCCAUUAAAGACGCACAAGCAACCACCUACCAUUGAGGGCACAUUAAGAGUUAAUGACACGUCUCUGGGAACAAUAGAUUGCGUAGCAAAGGCACGAAACUUUGGUGGCGAAUGUCCAAACUUAGCACGAGGCUGCGUCGAUUGUAUGCCGCGAAAUCUACCGAAGUACGUGAUUAGGGCUUGCAAAUGGCGGACCCACAUUCAGGCUAGGGCACAGCGACUGGCAUCCGGGCAUAGAUCUGUGGGGACUCAUUAUCUCCGAGUCCCACGCCUCCGUGGUCGUAUUUACUCACGGGGGGUCUCACAAAAACUGGCACAUCUGUUGCUCAAGCCUGCACGACAGAGGCAAACCGCGGCCGCCCUUGCUUGGGCCGGCCUCUUGCUAUUUAGUUGUCUAACGUCGCGACCACUACUUGUCCACGAUGGUGAUGUGGUGUGUGCGCGAUAUGUAUCAUCAAGAGGUCACUAUCCUGAUUGUUUACCGAAUUGUGACAUAUAUACAUACACGGCGAAGCUCCUCUGGGACUGUGUAGUUUACUCGAGCUGGGGCGGUGAAGUAAGAACACAUUUGCAGGCAAGUGAGCGAAGGGGAUCAGGUGGCCUGUCCGCGAGAGCGGCUACGUGUCUAUCACUACUCUCUCCAAUUCGAGAGCUCCCCGGCUCCAUUGUCUUGCUAGCAUCGCAAGUACGAGUCAACUUACAGCUCGCAAGAAUUACUAGAUGGCCAACCACCAUGCCCGUCGCGGCGGCGGCAGCGACGUCAUCAUCCUUUGCCCGGUUAAGAAUUAGAAUUCUGACCAAACUGAGUUCUGCGCGAGGACUGAUCUGGGAAGUCUUAGACCCACUCUGGGCACUGAAGUCGUGGUCAGCCCCCAUGUUCGACUACUUUUGUGCCCGGAAGUCGAUACGACGUGAUCCAGGGUGGUCUUGA\"\n",
        "print(translate_rna(rna))\n"
      ],
      "metadata": {
        "id": "5Rzzfzij6q2P",
        "colab": {
          "base_uri": "https://localhost:8080/"
        },
        "outputId": "afab2dba-f504-4233-954c-bd122c8b0cb3"
      },
      "execution_count": 43,
      "outputs": [
        {
          "output_type": "stream",
          "name": "stdout",
          "text": [
            "MPRACYLLADSQPVSSHHDDIPVNRLQSRICSTEPDTTMRTHGQDAPYQVRTHAIQDSYCLPPIRTPTENHPIYTNAGTSISKWKLSNRAVMISQHVPRPIYEINSSALAAYVLAQATWHIERKESIATRRRIKSSPSRRSSRVLDAVPPSDFLVKIGFACWNYNSLYEALYLKHQCIAFPMCQSRTTARPIGFNKTTERASRGFRIRNCWGIRDRSCPRRLAEEEWWRAPPSRTVLHGPVSKWTTLDQIIVVAINHSFRWGGSRYTLRSLNFTFVGSIPRHPDITELRLRKSVIPYLAVIDRVSRIFGPERELRTHSALAYQQRGAIVATDPCYSMGGQSRTQGSSSHHPLQSEIRSTARGLPKRLQLTRVDASPSMSSLFVSGLDYADPRDENTPVLLFVSDHTRWTLLLPQEHVDSIFLQNRGPKTPTACLTWRYPSMVCGRKVIRWIMSSSSASPNPRSMLLHITGPVVSLRPPNNQNITLREMTIERCNRPVSATSGYPACETRRQLFESYLLLLHYYPSVVADWTNPSLSYPAVVEGNLITSILVTLDGKKNIIERQVRSLSVVSHEIHSMHRVTSPNTQMIPEKNSGFNQYAFLKDATKSVGFIAALRYGTRLTSARAASSMFREIIESPSLVVRAPTFKDFVRAAGSLDSFRLAVVSSYPEGRGGHGSHLFPDRKLPSSWIIIHHWFRWSQSRPGILLPASCQLSVGLSHSCPARGDRQVGVLYTHIQASKVFRQRGGYRGGVLFMLQASRRLHGATVERRCEGTLQKVPSQAGLDVYGDRFLGGNSRRAELGYLVDSCFISSQFRIRNASDTAGKNGHRIEVSRRYPSKDHGPDVRFYAAEAGPILALCGTVKARTLGNHTYLQEKGRTVYLRQLTGLLVATLQAPVRRNDGTGLERVLTSACVEALLYTFLDARMFFSIEGRQAALPTEHSSLTSVNKLLRLQRKRTEWHDPDLNRHKRRMLGLCFLSRSPVRHTLRSLFDDVAEAARSVRDVFEIAGKVCPVGVSDRVCSVMFEWVGGFLPKTDATLYIWRPSSYLALLPHHGQFFCEIKPGKAIWRDRFNGQSTPTWRRSNSPTEARVVSKVLLRDHQFQGSNSGILEKTHNRVGFFAQWMASGTRGKSRLHLIFYRKDIPCVLLLCLSYPAVSDNIQRQASCDFNNDSLTECSRLSRIPIYLEYPPSPPGSGTHQLLLPIIAFNPALRPNLVTFRDTIPCARTIVRRAASFRISEKLPGAEGTHGCPLKYSYDNRCSLSPGLDPFSFTSIICTDAPVIGRATGDDNYCIERMVYAGVHVLWRGVLVTFYTRPSKNRTQPCITWKSIYNSPALRVRQSIFQGEPVVYREKQLFRYLLLQCSKIRSNGRNVSVSQHLLPLPIRYLTIGRDFVFPHEPSSFNSRCSFPPYPWLRYVNANVGRECIHNSYPPHTSHTLSTDGLSGLLPVIVLTVHHIANAVSRSQTAISKLTVPRQRGVGFSAVAYKSMMSLLPTCPLETTSGLMQLPVPHMIESAAFKGFLDWTRLKCGLLLMITAGNRRCILIGRCLILMMGTLMARVKVATKLSPPLIYSEHKWAADDLGISPPPVIDQLLSIAAGRYERLALYRPQFAFPDSLALNSRDDYERDCRGSSLITYARGEARPFSAIPPRQRIPIGALRYRGTSRLACDCEPPLRMPERVHATGIIADINWDLRFMPLTYRRVADLPAVRGQRPRSDHVIVREPRGSAKDYRVSAESFIHPISISPFAPVTVPQLKSSVRCDLAILGGRSRRIIPHYSCNLHFNQPRLVSVVTVRRSANLRRLRIATEAAFTGAEVRTPYKEIDCSRYRVCLPKTPITSARFTFLSVASLQARRSHISTYYSFPQVSGTTWCEPATPSELVEDHKNVILRQKDPTLCRFAGHLRCSPCPSSPNHGECSEGSPSTPTAAAGLAGMGPGGFIHTHPREGAGCILHNHWWIETSLKRWIAAGLQGQREPNSLWNEGCFVTSRSSVVYTTKSIMYNRRSRTLLLCRISGTDRVQTYAAQIHVSQVRCVLFEPITSSASRNLGNAALSARPTGVYLVATAVYTSNCNTQVIPAGVFSHGTRDRVPESLYYPLSYQTKHLLPRQHLHRVLVIPLETHCHIPKSGLCSPVRFERDTSAEGTRFHYTTVSYTHRVSLPSSKTETSGPLHLYHAHESGSSKSVYIHLRSIPGFTQSCDDGREIRTSHSASIVVSRHLLTRKLNPSYLTHSCRGGPTDALPLIHRGTDRIAESELRMPHRPARLCTYPKHNSRLCWNRTVGRGKVEHRCPALNRTSPKVVQWLFRTIILELGYYDETVCDHGEEDLSLHIEAIKSSMRDRILLGQCSDVVTDIHVRESRINSGIRELSTRNAVRLFSPRSCGGSPSKCKRPWTTRGDLLSTVCSIDSAAALYCGTLSQPTRRCGAGIHCEIPYGNYQRVHGRIHGVRGSIKLDPREVRGSMESPAQLSLNELLELGSRRPNVLGQSLSTTILPPCLGSRGRLSSPSFESEKRSQGASEFLPCTCTGQHWCRLLVPARGLWNRIRSMDVRRTFTPDRGPHTTAMMRRASLVSSAFSGETQSGPVRMSDDRLVQFLEWSRGIDKPLGLLLRGRRSRRPIQQLLGVLTLGISAYGLPGWALGYNPDGELYFDHSETPFLSEMLITDLTQRYYADYRRFNNRVPGTVRVYHQSLRPFGGHQEYWVDLTTRLEHLDFMASHDPPLRDVSPSSIAIGFRLKKGFPIELGGLITAPGGDKVHKCLHYPFEGVIIWANKCYRPFVHKITDAQFCPEQDVATPRAAWDNFVAGLRPCMRSAHCRMLRIDEVREKSRYDNRSSFCHLMSWLRISQSRTAIAKLNVNLFSCSRRPLKTHKQPPTIEGTLRVNDTSLGTIDCVAKARNFGGECPNLARGCVDCMPRNLPKYVIRACKWRTHIQARAQRLASGHRSVGTHYLRVPRLRGRIYSRGVSQKLAHLLLKPARQRQTAAALAWAGLLLFSCLTSRPLLVHDGDVVCARYVSSRGHYPDCLPNCDIYTYTAKLLWDCVVYSSWGGEVRTHLQASERRGSGGLSARAATCLSLLSPIRELPGSIVLLASQVRVNLQLARITRWPTTMPVAAAAATSSSFARLRIRILTKLSSARGLIWEVLDPLWALKSWSAPMFDYFCARKSIRRDPGWS\n"
          ]
        }
      ]
    },
    {
      "cell_type": "markdown",
      "source": [
        "####**<font color=crimson>TASK 21.3 Commit to GitHub**</font>"
      ],
      "metadata": {
        "id": "dvtR4N7L6sZ_"
      }
    },
    {
      "cell_type": "markdown",
      "source": [
        "#<font color=blue>**P22.**</font> SeqIO – a function to parse( ) sequence files"
      ],
      "metadata": {
        "id": "bDJqtRiX3fEG"
      }
    },
    {
      "cell_type": "markdown",
      "source": [
        "####**TASK BP 22.1** Read in the practice dataset from Rosalind #9 and print the id of each sequence in the file."
      ],
      "metadata": {
        "id": "VKyMhLjx7nIo"
      }
    },
    {
      "cell_type": "code",
      "source": [
        "from Bio.SeqIO import parse\n",
        "\n",
        "for seq_record in parse(\"practice_9.txt\", \"fasta\"):\n",
        "    print (seq_record.id)\n",
        "    print (seq_record.seq)\n",
        "    print (len(seq_record.seq))\n",
        "    print (seq_record)"
      ],
      "metadata": {
        "colab": {
          "base_uri": "https://localhost:8080/"
        },
        "id": "xUi3JEoh7yJ6",
        "outputId": "0268cd9f-2c8c-4763-d3bd-02d54c9b0afd"
      },
      "execution_count": null,
      "outputs": [
        {
          "output_type": "stream",
          "name": "stdout",
          "text": [
            "Rosalind_6404\n",
            "CCTGCGGAAGATCGGCACTAGAATAGCCAGAACCGTTTCTCTGAGGCTTCCGGCCTTCCCTCCCACTAATAATTCTGAGG\n",
            "80\n",
            "ID: Rosalind_6404\n",
            "Name: Rosalind_6404\n",
            "Description: Rosalind_6404\n",
            "Number of features: 0\n",
            "Seq('CCTGCGGAAGATCGGCACTAGAATAGCCAGAACCGTTTCTCTGAGGCTTCCGGC...AGG')\n",
            "Rosalind_5959\n",
            "CCATCGGTAGCGCATCCTTAGTCCAATTAAGTCCCTATCCAGGCGCTCCGCCGAAGGTCTATATCCATTTGTCAGCAGACACGC\n",
            "84\n",
            "ID: Rosalind_5959\n",
            "Name: Rosalind_5959\n",
            "Description: Rosalind_5959\n",
            "Number of features: 0\n",
            "Seq('CCATCGGTAGCGCATCCTTAGTCCAATTAAGTCCCTATCCAGGCGCTCCGCCGA...CGC')\n",
            "Rosalind_0808\n",
            "CCACCCTCGTGGTATGGCTAGGCATTCAGGAACCGGAGAACGCTTCAGACCAGCCCGGACTGGGAACCTGCGGGCAGTAGGTGGAAT\n",
            "87\n",
            "ID: Rosalind_0808\n",
            "Name: Rosalind_0808\n",
            "Description: Rosalind_0808\n",
            "Number of features: 0\n",
            "Seq('CCACCCTCGTGGTATGGCTAGGCATTCAGGAACCGGAGAACGCTTCAGACCAGC...AAT')\n"
          ]
        }
      ]
    },
    {
      "cell_type": "markdown",
      "source": [
        "#<font color=blue>**P23.**</font> SeqUtils.gc_fraction( ) – a function to compute GC content"
      ],
      "metadata": {
        "id": "SAjUYBpe3pwi"
      }
    },
    {
      "cell_type": "markdown",
      "source": [
        "####**TASK P23.1** Modify the script from TASK P22.1 so that it prints the GC content for each sequence in the file"
      ],
      "metadata": {
        "id": "kEjUu8HfHniC"
      }
    },
    {
      "cell_type": "markdown",
      "source": [
        "####**TASK P23.2** <font color=orange> **Complete Rosalind #9  Computing GC Content**</font>"
      ],
      "metadata": {
        "id": "nJeXcQR7HwOf"
      }
    },
    {
      "cell_type": "code",
      "source": [
        "# OPTION 1: Paste FASTA data directly\n",
        "fasta_data = \"\"\">Rosalind_7008\n",
        "CGCCTCCCGAAGGGGCCAAAGCTTGGCTACAGACCATCGGAGCTTAGTCTAGGACAATCT\n",
        "GATTTAGATCAAGTGTTAGCCTCACCAACCTTACCGCAACTCACTTAGAAATGGATAAGG\n",
        "ATTTAGTCTCGTATTGACTTGCCCCTCAATCCCTTTCCATGTAGAAATTCTGCCCAGCCT\n",
        "TTTCGTACGCTCGCGAACTGAGCGGATATATACCTTCCACATGGCTTCGTCCTCTCGAAC\n",
        "ACCATCGTGCGCTAGAGATTGCGATAACAGTTTGATTTACTGAGTGCCCCTCTCCTGGCG\n",
        "CCACATAAAAATTCTACTCCGAGTTCTACTGTAAGGCAAAGAATCTGGGATAGCTTGGAT\n",
        "TCTCTCGTACATTCAGGGGTGTAGATAGCAACTCCTTGCGTTAGAACACAGGGATGATAG\n",
        "CCGGAACCACCATTGGTTCTACGGGTTCAGTGGCGTCAGCGCTCTACCGAAAAAGTGAAT\n",
        "TCTATCTAAGCATCCGAGAATATATAGGCAGCACTGGCGCAATGAATAGGGCGCTCCAGG\n",
        "TGACTATCCATGATCATGCGGCTTGCTCATCCTACTGTTCCCCTGAGGAACGTCAAACAC\n",
        "TGGCGGTGTTGGGCTACTTCAAGTTGGGCCATGGTTTGTATGTCTCCTAGGACCTTACGG\n",
        "TCATCCTCATGAGTGTGAGTCCATATCTGGCCAGATATCCACACGCAGAGTCCCTACTCT\n",
        "ACGGTCGATCTAGGGACGCATACTTTTCCAAACTTCCGTCTAGAATGTTGTCCGAGGTTT\n",
        "CCTATACGACCCATACCAAGGCTGGACTCATCTATACCTCCATTGTATTTGAGCCCGTGG\n",
        "GGTCAGAGCGTGCTCCCCCATCAGAT\n",
        ">Rosalind_1842\n",
        "CTGCCTGGTCGATCGACCTTGGGCTTCTTAATCCCAACTGTCAAACGCAGCTCGTGGATC\n",
        "CAGCTTTCCCTTGTTCGAGGATTCGAAGCGGGCAAGGAAAACTACACCGTCATTGATTGA\n",
        "ACCTTAGCTTGCACACAACCTGATATTGCACGAGTTTCCGCCTGCAAAACTGCCCCCAAA\n",
        "TTCAACCCGAATAGGTGCTAAATAACAGGAGGCACGCCCACTTCGCATGCGATCCGGCCT\n",
        "CCGATTTTAATTCTGCTAGCGCACGGTCGCGACTTCTGAGTGATATTTTAGACTGAGCGT\n",
        "CTAATTCAGAGAGCTGCGATGCATCAGCCGGACTGCCGTCACTGGAACCAGATCGGTATT\n",
        "TGCAGTGTCTAAATGGGCTGCTAACCAATTATTCCTCTTTGCCTAAAGCACTTACAGCTA\n",
        "CTCTCCTAATCTCCGGTGCTCTATGCATCACCAATTAAACCTTCGAGGCCTCATCGCTTC\n",
        "CCTTCTACCAGGAATAATCGATGGATCAGCTTAACAAGGACTTCCGAAGTACTACGCTAC\n",
        "TTAAAACTGAGACACCAATCCCCGTACTCTTTCCTGTCGTTTAGTTATATTCGTGATTTT\n",
        "GGAAGCGAACCGAGGCACCCTATTGTGGGTCTAATTCTGCGAAGATGAGTTTATATTACG\n",
        "GTTCGGGACAACCAGAATTCCTCGTTGTAACTCATGAACTGGGATCGTCAACGTTCTCTT\n",
        "ACATAAATGTTCGAATTAAAAAGTTGCGCCCGGCTAGACAACTGCGACGTTCTTTTTAGC\n",
        "TTTACCTGCATCACGCAGCGGCTTCGTTAAGTCGGCCGCGTTAGGCGGTTGATCTAGTTG\n",
        "CGGTCCTATCCTTGCTCCGATGATTTTAGAGCGGTGCATGAGGGCATTACCCGCGTTTAT\n",
        "CTAAGGGATTGCCC\n",
        ">Rosalind_1680\n",
        "GTCGCGATAGATGTAGCGACTTTCGCATTACAAACGGGCAAAACAGCAGGCATTACCGTA\n",
        "GGACTAGCGCTAAGAGGGGAACTGCTTATACTGTCAATCCTTGACGTTTGAATTCACGCG\n",
        "CAGGAATCTAAACCCCCAAATGTCTACGCAAGGTCACGGCAGAATAGATTGCCACGTATT\n",
        "ATCGCCCCAACCTGAGATTGTAGGCCTGTATGTTCATTCAGCCTCTTGTGCGGATATACA\n",
        "GTTCGATATTTGCCCGCAGTGATCTTCCCTATTGATAGAGTAGTCTTCTATCTCGGCATT\n",
        "GGACGGGCTGCCCTAAAGGAGCTCTAAAATTTGATGCAGTTCACCTATTTGAGCGATTGA\n",
        "GACTGGCTTAATATAGTTGCGCTTTGGTTCATTGGAGAGCAGCACGGGTCGTACTCCCGA\n",
        "CCTTAGAGGGCGTAGCGGTCATTCAACCATTAGGACTCGTGGGAACGATACCAATTCGAG\n",
        "CAAGACTTTAGGAGCGGGTCGCGGAACCGCTAGTCATCCCCTACCCTAAGCGGTTAAGGA\n",
        "AGATAGCGTGTTAAACTCGACGGGCCAATGGCGTTGCCGTGTAGCCATGCCACCACATCG\n",
        "CGAGTCCTTTAAATTTACATTTACGGGGGCCATAACATACTAGTGAGAACTAACGAACCC\n",
        "CCCAGCGCTCCGACCTGTGGAGCGTAGAGAACCGTAGAAAACCAAATATAGCGTTGGAAA\n",
        "GTTGCTTAATGCCAAAACTGCCTACTAGGAGGGCGGGCCCTCAGCCGCCTCTGTTCCAAC\n",
        "CAGTCAGTCTAATAATATGGTGCTGGTACGAGGCCAGAAGCCATGCCTGGGTGGTTTGTC\n",
        "AATAGAGCAAGGGTATCTATTTACGAGTCGCCAGCCATATTGTCTAACATCGTCCTAATA\n",
        "TAGTGACCGTTCTAGCAAACCCCCGAGGTAAGTCTGCTAGTGAGAACTCACGTGAGCGGT\n",
        "TATATGGGCGAATTGGGTTAGGCTATCCACTACCGT\n",
        ">Rosalind_3563\n",
        "GAACTCTCGGGTCGTAAGTACGTCTTACGTGGCTCCGAGGACGAAAATAACAAGAGGGTC\n",
        "GTCAATCCGAATGCAAGGGGCCACCCTTGAGGCCCCGAGCCCTTGACGTGCTGAAACTTT\n",
        "ATCCACCCATAGCCTATCTAAACAGCCAAGTCCGGGTGTGCTATGGCGTGGCCGAGAGAG\n",
        "AACTCTCGCTCGTCTGGCCACTCGTTCCCGTCACTACAAATCCAGATACGTGTACAATAA\n",
        "TTAAATATCGACAGGGGTCAGCCATTAACTGCGATCAGAAATATGCTGGCGACTGTGTAC\n",
        "ACACTGCGTGGGGTGGAGGTACCAGCGCCGTGTGCTTGTCTCAGGCTTTGCCAAGAGCCA\n",
        "CGATAAATAGACTGCACTCCCGTTCCAGGTCCGAGCCCTGGCAACAAGCTTAGGATCGGT\n",
        "GCCCGGTGGACCATACGTGAGGGCGTACTCGCAGCGGGAGGGCCGGGGCTGCGCTACCCA\n",
        "CAGCCCCTCATCATTGGTCACGGCCTGGGTTTCCGCCTACGCTGTGGTGGGCGGTTGACC\n",
        "GTCAAAATTCCTAGTGACTTTTGACTAGCGACACACTGAATCCTTCAGAAACCCACGGGT\n",
        "AGTTTCGCCCTGAACCACACTTGTGCGGGGAACGGAGTAAGTAGAGTAATGGTACGGCTG\n",
        "GCGCTGGCCCAAGGGTGCCCAGATTCCACAATGTACAGGCCTCTTCTACTGACACCCATG\n",
        "AGCCCCGGCTAGCCGTTACAACGTAAGTGCGTATCAAACCCGCACTCCCGCCGAAACGCA\n",
        "CTACTGAATAATCTAATTAATCCGGGGCACGTA\n",
        ">Rosalind_5762\n",
        "GACCTATCGCGCCGTCGATCCTAGGTTTTTCACCGGAATATGGTCCCACGTTAATTCTGT\n",
        "AACGTGGTAAAGCTAACTTTAGCATGTAGACCTCAGAAGTCGAGTCCATCGCCAAAGGGT\n",
        "GGTTGGCGCCATATTCTGGCCTCCCACTACGCAGGGCACACTTATGTTACCTTTAGACAG\n",
        "TATACCAGGTGGTAGAATTCGATCGGCAGTAGCTACTGGGTGATTCGAGTCAACTCAATC\n",
        "CGGCCGTCAAGTGTCTAGGGGCCGGCGGGGTAGGGTAGCCGGAAGGTCGTCAAAGTGGAC\n",
        "ACATAGCTTGGCGGGAAACCTAAGCAGGGTTAGAGTTAATCGGGGTCATCTGGATCTTGA\n",
        "GGATCGCACACTCAGGTTACCAAGTCTACTAGACGTCTCTTGGACTTACACAACCTAATG\n",
        "CTGACCGGCAGAACCTATGACTCTGAACAACCGACGTCTAGACACACCCTAGCGGTGTCA\n",
        "AATATACGCCAAGCAACATTGTAAATATGCAGTTCAGGGTACTTAAGTATACCAATGCGT\n",
        "GATCATAGCTTTCAAGGTAGCCAAAGGTAAGTCCAGTACGTTCTCTGGGAAAACTCCATA\n",
        "TTCGCCAGTAGTCCATCTGCCAACGATTTCGGGGTCTAGCGGCTAGAAACACATAGGCTG\n",
        "GTCGTACAGGACAGGCCATATACCATCGCAGCTACGCAGTCGATCCGCGATGGTAGGCCT\n",
        "CCCTCCTGCTTGATCAAGTGAAAGACGGCAGTTACGGACAGTGGGCGTACAGGTCACTCG\n",
        "GGCCCCACCACACGTCTGTCCTTTGACTGCTGTGGATAAGTGATTCACCACCACGCTGGA\n",
        "AACAGGAGTTCGGGCGAACATGCGCATTTGGTACGCGAC\n",
        "\n",
        "\"\"\"\n",
        "def parse_fasta(data):\n",
        "    label, seq_parts = None, []\n",
        "    for line in data.strip().splitlines():\n",
        "        line = line.strip()\n",
        "        if line.startswith(\">\"):\n",
        "            if label is not None:\n",
        "                yield label, \"\".join(seq_parts)\n",
        "            label, seq_parts = line[1:], []\n",
        "        else:\n",
        "            seq_parts.append(line)\n",
        "    if label is not None:\n",
        "        yield label, \"\".join(seq_parts)\n",
        "\n",
        "def gc_content(s):\n",
        "    return (s.count(\"G\") + s.count(\"C\")) / len(s) * 100 if s else 0.0\n",
        "\n",
        "max_id, max_gc = None, -1.0\n",
        "for label, seq in parse_fasta(fasta_data):\n",
        "    pct = gc_content(seq)\n",
        "    if pct > max_gc:\n",
        "        max_id, max_gc = label, pct\n",
        "\n",
        "print(max_id)\n",
        "print(f\"{max_gc:.6f}\")\n"
      ],
      "metadata": {
        "colab": {
          "base_uri": "https://localhost:8080/"
        },
        "id": "nl14__kCEMrZ",
        "outputId": "4a0be22f-338d-4c00-c622-330b499d9cbd"
      },
      "execution_count": 42,
      "outputs": [
        {
          "output_type": "stream",
          "name": "stdout",
          "text": [
            "Rosalind_3563\n",
            "55.596556\n"
          ]
        }
      ]
    },
    {
      "cell_type": "markdown",
      "source": [
        "####**<font color=crimson>TASK 23.3 Commit to GitHub**</font>"
      ],
      "metadata": {
        "id": "gavUUL39INzP"
      }
    },
    {
      "cell_type": "markdown",
      "source": [],
      "metadata": {
        "id": "Zf_OZq9R0dnq"
      }
    }
  ]
}