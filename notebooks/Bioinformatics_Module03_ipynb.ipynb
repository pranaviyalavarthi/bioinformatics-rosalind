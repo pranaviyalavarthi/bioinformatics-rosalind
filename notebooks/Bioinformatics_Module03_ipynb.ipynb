{
  "nbformat": 4,
  "nbformat_minor": 5,
  "metadata": {
    "colab": {
      "provenance": [],
      "include_colab_link": true
    },
    "language_info": {
      "name": "python"
    },
    "kernelspec": {
      "name": "python3",
      "display_name": "Python 3"
    }
  },
  "cells": [
    {
      "cell_type": "markdown",
      "metadata": {
        "id": "view-in-github",
        "colab_type": "text"
      },
      "source": [
        "<a href=\"https://colab.research.google.com/github/pranaviyalavarthi/bioinformatics-rosalind/blob/main/notebooks/Bioinformatics_Module03_ipynb.ipynb\" target=\"_parent\"><img src=\"https://colab.research.google.com/assets/colab-badge.svg\" alt=\"Open In Colab\"/></a>"
      ]
    },
    {
      "id": "ed6c265b",
      "cell_type": "markdown",
      "source": [
        "# Bioinformatics Module 03\n",
        "Notebook covering Python basics, control flow, file I/O, dictionaries, loops, and Biopython."
      ],
      "metadata": {
        "id": "ed6c265b"
      }
    },
    {
      "id": "63149ca4",
      "cell_type": "code",
      "metadata": {
        "colab": {
          "base_uri": "https://localhost:8080/"
        },
        "id": "63149ca4",
        "outputId": "0118f9ff-2623-40ed-d966-7e495b799684"
      },
      "execution_count": 1,
      "source": [
        "# Print a message\n",
        "print('hello world')"
      ],
      "outputs": [
        {
          "output_type": "stream",
          "name": "stdout",
          "text": [
            "hello world\n"
          ]
        }
      ]
    },
    {
      "id": "07358cd4",
      "cell_type": "code",
      "metadata": {
        "colab": {
          "base_uri": "https://localhost:8080/"
        },
        "id": "07358cd4",
        "outputId": "56afae25-ab88-4ac6-a1c0-cd38efdb347f"
      },
      "execution_count": 2,
      "source": [
        "# Assignment examples\n",
        "x = 5\n",
        "name = 'Darwin'\n",
        "values = [1,2,3]\n",
        "print(x, name, values)"
      ],
      "outputs": [
        {
          "output_type": "stream",
          "name": "stdout",
          "text": [
            "5 Darwin [1, 2, 3]\n"
          ]
        }
      ]
    },
    {
      "id": "0ea53bc9",
      "cell_type": "code",
      "metadata": {
        "colab": {
          "base_uri": "https://localhost:8080/"
        },
        "id": "0ea53bc9",
        "outputId": "a6c18982-d6cb-4497-e92f-9f047f08c1bd"
      },
      "execution_count": 3,
      "source": [
        "# Check variable types\n",
        "print(type(5))\n",
        "print(type(5.0))\n",
        "print(type('5'))\n",
        "print(type([1,2,3]))"
      ],
      "outputs": [
        {
          "output_type": "stream",
          "name": "stdout",
          "text": [
            "<class 'int'>\n",
            "<class 'float'>\n",
            "<class 'str'>\n",
            "<class 'list'>\n"
          ]
        }
      ]
    },
    {
      "id": "48151df0",
      "cell_type": "code",
      "metadata": {
        "colab": {
          "base_uri": "https://localhost:8080/"
        },
        "id": "48151df0",
        "outputId": "2bdc0381-342d-42e3-bfba-a8a5f82a1922"
      },
      "execution_count": 4,
      "source": [
        "# Arithmetic and comparison\n",
        "print(2+3, 5-2, 3*4, 15/3, 18%5, 2**3)\n",
        "print(2+3==5, 4!=5, 6<10, 7>=7)"
      ],
      "outputs": [
        {
          "output_type": "stream",
          "name": "stdout",
          "text": [
            "5 3 12 5.0 3 8\n",
            "True True True True\n"
          ]
        }
      ]
    },
    {
      "id": "97f4573a",
      "cell_type": "code",
      "metadata": {
        "colab": {
          "base_uri": "https://localhost:8080/"
        },
        "id": "97f4573a",
        "outputId": "e5b6c26a-63a6-4e6c-c843-1d0494856f52"
      },
      "execution_count": 5,
      "source": [
        "# User input\n",
        "name = input('Enter your name: ')\n",
        "print('Hello', name)"
      ],
      "outputs": [
        {
          "output_type": "stream",
          "name": "stdout",
          "text": [
            "Enter your name: Pranavi\n",
            "Hello Pranavi\n"
          ]
        }
      ]
    },
    {
      "id": "09436131",
      "cell_type": "code",
      "metadata": {
        "colab": {
          "base_uri": "https://localhost:8080/"
        },
        "id": "09436131",
        "outputId": "3a55dad6-9efc-46f3-af8c-d5b99640c9e0"
      },
      "execution_count": 6,
      "source": [
        "# Basic list usage\n",
        "my_list = ['Hello','World','Charles Darwin']\n",
        "print(my_list[0], my_list[1])"
      ],
      "outputs": [
        {
          "output_type": "stream",
          "name": "stdout",
          "text": [
            "Hello World\n"
          ]
        }
      ]
    },
    {
      "id": "6d335bd8",
      "cell_type": "code",
      "metadata": {
        "colab": {
          "base_uri": "https://localhost:8080/"
        },
        "id": "6d335bd8",
        "outputId": "bbcb4a23-7b69-4aa3-ea3b-0a28b1079b73"
      },
      "execution_count": 7,
      "source": [
        "# Modify list\n",
        "my_list[2] = 'Alfred R. Wallace'\n",
        "my_list.append('Charles Darwin')\n",
        "my_list.insert(1,'Inserted')\n",
        "print(my_list)"
      ],
      "outputs": [
        {
          "output_type": "stream",
          "name": "stdout",
          "text": [
            "['Hello', 'Inserted', 'World', 'Alfred R. Wallace', 'Charles Darwin']\n"
          ]
        }
      ]
    },
    {
      "id": "7e09f99c",
      "cell_type": "code",
      "metadata": {
        "colab": {
          "base_uri": "https://localhost:8080/"
        },
        "id": "7e09f99c",
        "outputId": "b68d728d-81d2-41a5-c47c-01402ce217c5"
      },
      "execution_count": 8,
      "source": [
        "# Slicing lists and strings\n",
        "print(my_list[2:4])\n",
        "my_string = 'HelloWorldCharlesDarwinAlfredRWallace'\n",
        "print(my_string[:5], my_string[5:10])"
      ],
      "outputs": [
        {
          "output_type": "stream",
          "name": "stdout",
          "text": [
            "['World', 'Alfred R. Wallace']\n",
            "Hello World\n"
          ]
        }
      ]
    },
    {
      "id": "aad3a637",
      "cell_type": "code",
      "metadata": {
        "colab": {
          "base_uri": "https://localhost:8080/"
        },
        "id": "aad3a637",
        "outputId": "58412873-d0ce-4ad5-89d9-122bd57e6406"
      },
      "execution_count": 9,
      "source": [
        "# If-else example\n",
        "a,b = 5,7\n",
        "if a==b:\n",
        "    print(a+b)\n",
        "else:\n",
        "    print(a-b)"
      ],
      "outputs": [
        {
          "output_type": "stream",
          "name": "stdout",
          "text": [
            "-2\n"
          ]
        }
      ]
    },
    {
      "id": "9d9531e0",
      "cell_type": "code",
      "metadata": {
        "colab": {
          "base_uri": "https://localhost:8080/"
        },
        "id": "9d9531e0",
        "outputId": "bc8e00a3-918a-4889-c4e1-4423a392e408"
      },
      "execution_count": 10,
      "source": [
        "# While loop\n",
        "count=1\n",
        "while count<=3:\n",
        "    print('Counting', count)\n",
        "    count+=1"
      ],
      "outputs": [
        {
          "output_type": "stream",
          "name": "stdout",
          "text": [
            "Counting 1\n",
            "Counting 2\n",
            "Counting 3\n"
          ]
        }
      ]
    },
    {
      "id": "236a06fd",
      "cell_type": "code",
      "metadata": {
        "colab": {
          "base_uri": "https://localhost:8080/"
        },
        "id": "236a06fd",
        "outputId": "85c5f58f-4a0a-44cf-acf8-379391724603"
      },
      "execution_count": 11,
      "source": [
        "# For loop over list\n",
        "names = ['Alice','Bob','Charlie']\n",
        "for n in names:\n",
        "    print('Hello',n)"
      ],
      "outputs": [
        {
          "output_type": "stream",
          "name": "stdout",
          "text": [
            "Hello Alice\n",
            "Hello Bob\n",
            "Hello Charlie\n"
          ]
        }
      ]
    },
    {
      "id": "bf262253",
      "cell_type": "code",
      "metadata": {
        "colab": {
          "base_uri": "https://localhost:8080/"
        },
        "id": "bf262253",
        "outputId": "43eb6f86-cea1-480d-e809-9912d49f5f9f"
      },
      "execution_count": 12,
      "source": [
        "# For loop with range\n",
        "for i in range(10):\n",
        "    print(i)\n",
        "for j in range(9,28,3):\n",
        "    print(j)"
      ],
      "outputs": [
        {
          "output_type": "stream",
          "name": "stdout",
          "text": [
            "0\n",
            "1\n",
            "2\n",
            "3\n",
            "4\n",
            "5\n",
            "6\n",
            "7\n",
            "8\n",
            "9\n",
            "9\n",
            "12\n",
            "15\n",
            "18\n",
            "21\n",
            "24\n",
            "27\n"
          ]
        }
      ]
    },
    {
      "id": "83971ea5",
      "cell_type": "code",
      "metadata": {
        "colab": {
          "base_uri": "https://localhost:8080/"
        },
        "id": "83971ea5",
        "outputId": "79d4d972-18b5-450e-e828-0f6d124a5c85"
      },
      "execution_count": 13,
      "source": [
        "# Write and read file\n",
        "with open('practice.txt','w') as f:\n",
        "    f.write('Bravely bold Sir Robin\\nRuns away\\n')\n",
        "with open('practice.txt','r') as f:\n",
        "    print(f.read())"
      ],
      "outputs": [
        {
          "output_type": "stream",
          "name": "stdout",
          "text": [
            "Bravely bold Sir Robin\n",
            "Runs away\n",
            "\n"
          ]
        }
      ]
    },
    {
      "id": "d27c9177",
      "cell_type": "code",
      "metadata": {
        "colab": {
          "base_uri": "https://localhost:8080/"
        },
        "id": "d27c9177",
        "outputId": "5fad79e8-b659-4d09-f8fe-fb9f35301d8c"
      },
      "execution_count": 14,
      "source": [
        "# Store and join file lines\n",
        "with open('practice.txt','r') as f:\n",
        "    lines = f.readlines()\n",
        "print(''.join(lines))"
      ],
      "outputs": [
        {
          "output_type": "stream",
          "name": "stdout",
          "text": [
            "Bravely bold Sir Robin\n",
            "Runs away\n",
            "\n"
          ]
        }
      ]
    },
    {
      "id": "aaa8056f",
      "cell_type": "code",
      "metadata": {
        "colab": {
          "base_uri": "https://localhost:8080/"
        },
        "id": "aaa8056f",
        "outputId": "84f1bd94-479f-4f6e-9497-129215d82876"
      },
      "execution_count": 15,
      "source": [
        "# Loop through file lines\n",
        "with open('practice.txt','r') as f:\n",
        "    for line in f:\n",
        "        print(line.rstrip())"
      ],
      "outputs": [
        {
          "output_type": "stream",
          "name": "stdout",
          "text": [
            "Bravely bold Sir Robin\n",
            "Runs away\n"
          ]
        }
      ]
    },
    {
      "id": "5580a01b",
      "cell_type": "code",
      "metadata": {
        "colab": {
          "base_uri": "https://localhost:8080/"
        },
        "id": "5580a01b",
        "outputId": "25213525-30fe-4f96-8cf6-56596f1a5113"
      },
      "execution_count": 16,
      "source": [
        "# Split sentence into words\n",
        "line = 'The quick brown fox jumps over the lazy dog'\n",
        "for word in line.split():\n",
        "    print(word)"
      ],
      "outputs": [
        {
          "output_type": "stream",
          "name": "stdout",
          "text": [
            "The\n",
            "quick\n",
            "brown\n",
            "fox\n",
            "jumps\n",
            "over\n",
            "the\n",
            "lazy\n",
            "dog\n"
          ]
        }
      ]
    },
    {
      "id": "954c2c2e",
      "cell_type": "code",
      "metadata": {
        "colab": {
          "base_uri": "https://localhost:8080/"
        },
        "id": "954c2c2e",
        "outputId": "16e342ac-8ce4-4136-deca-8584f319e213"
      },
      "execution_count": 17,
      "source": [
        "# Create dictionary\n",
        "seqs = {'H':'Hello','W':'World','ARC':'Alfred R. Wallace','CD':'Charles Darwin'}\n",
        "print(seqs['CD'])"
      ],
      "outputs": [
        {
          "output_type": "stream",
          "name": "stdout",
          "text": [
            "Charles Darwin\n"
          ]
        }
      ]
    },
    {
      "id": "e9e1eec4",
      "cell_type": "code",
      "metadata": {
        "colab": {
          "base_uri": "https://localhost:8080/"
        },
        "id": "e9e1eec4",
        "outputId": "d1f0f113-5d61-4a4a-9a5b-1d63998ff803"
      },
      "execution_count": 18,
      "source": [
        "# Update dictionary\n",
        "seqs['HS']='Homo sapiens'\n",
        "seqs.update({'PT':'Pan troglodytes'})\n",
        "for k,v in seqs.items():\n",
        "    print(k,v)"
      ],
      "outputs": [
        {
          "output_type": "stream",
          "name": "stdout",
          "text": [
            "H Hello\n",
            "W World\n",
            "ARC Alfred R. Wallace\n",
            "CD Charles Darwin\n",
            "HS Homo sapiens\n",
            "PT Pan troglodytes\n"
          ]
        }
      ]
    },
    {
      "id": "837a3fe6",
      "cell_type": "code",
      "metadata": {
        "colab": {
          "base_uri": "https://localhost:8080/"
        },
        "id": "837a3fe6",
        "outputId": "a8f38c76-f6b8-4588-ee9b-623d6f2b552c"
      },
      "execution_count": 19,
      "source": [
        "# Count DNA bases\n",
        "dna='ACGTACGTACGTTT'\n",
        "print(dna.count('A'),dna.count('C'),dna.count('G'),dna.count('T'))"
      ],
      "outputs": [
        {
          "output_type": "stream",
          "name": "stdout",
          "text": [
            "3 3 3 5\n"
          ]
        }
      ]
    },
    {
      "id": "e8db7455",
      "cell_type": "code",
      "metadata": {
        "colab": {
          "base_uri": "https://localhost:8080/"
        },
        "id": "e8db7455",
        "outputId": "8121522a-6229-48b9-94e4-a4c90f04773b"
      },
      "execution_count": 20,
      "source": [
        "# Install Biopython\n",
        "!pip install biopython"
      ],
      "outputs": [
        {
          "output_type": "stream",
          "name": "stdout",
          "text": [
            "Collecting biopython\n",
            "  Downloading biopython-1.85-cp312-cp312-manylinux_2_17_x86_64.manylinux2014_x86_64.whl.metadata (13 kB)\n",
            "Requirement already satisfied: numpy in /usr/local/lib/python3.12/dist-packages (from biopython) (2.0.2)\n",
            "Downloading biopython-1.85-cp312-cp312-manylinux_2_17_x86_64.manylinux2014_x86_64.whl (3.3 MB)\n",
            "\u001b[2K   \u001b[90m━━━━━━━━━━━━━━━━━━━━━━━━━━━━━━━━━━━━━━━━\u001b[0m \u001b[32m3.3/3.3 MB\u001b[0m \u001b[31m31.2 MB/s\u001b[0m eta \u001b[36m0:00:00\u001b[0m\n",
            "\u001b[?25hInstalling collected packages: biopython\n",
            "Successfully installed biopython-1.85\n"
          ]
        }
      ]
    },
    {
      "id": "d0ecd09f",
      "cell_type": "code",
      "metadata": {
        "colab": {
          "base_uri": "https://localhost:8080/"
        },
        "id": "d0ecd09f",
        "outputId": "e1c69b0e-0cee-4d3f-f629-7eb5d4564d58"
      },
      "execution_count": 21,
      "source": [
        "# Seq object functions\n",
        "from Bio.Seq import Seq\n",
        "s=Seq('ATGGCC')\n",
        "print(s.complement())\n",
        "print(s.reverse_complement())\n",
        "print(s.transcribe())\n",
        "print(s.translate())"
      ],
      "outputs": [
        {
          "output_type": "stream",
          "name": "stdout",
          "text": [
            "TACCGG\n",
            "GGCCAT\n",
            "AUGGCC\n",
            "MA\n"
          ]
        }
      ]
    },
    {
      "id": "d193cd34",
      "cell_type": "code",
      "metadata": {
        "id": "d193cd34"
      },
      "execution_count": 22,
      "source": [
        "# Parse FASTA file (placeholder)\n",
        "from Bio.SeqIO import parse\n",
        "# for record in parse('practice_9.txt','fasta'):\n",
        "#     print(record.id, len(record.seq))"
      ],
      "outputs": []
    },
    {
      "id": "dbfa1e1f",
      "cell_type": "code",
      "metadata": {
        "colab": {
          "base_uri": "https://localhost:8080/"
        },
        "id": "dbfa1e1f",
        "outputId": "73435ce3-32e0-4d61-a418-1dbac8b3d0e5"
      },
      "execution_count": 23,
      "source": [
        "# Compute GC content\n",
        "from Bio.SeqUtils import gc_fraction\n",
        "seq='ATGCGCGCTA'\n",
        "print(gc_fraction(seq))"
      ],
      "outputs": [
        {
          "output_type": "stream",
          "name": "stdout",
          "text": [
            "0.6\n"
          ]
        }
      ]
    }
  ]
}